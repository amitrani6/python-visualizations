{
 "cells": [
  {
   "cell_type": "code",
   "execution_count": 1,
   "metadata": {},
   "outputs": [],
   "source": [
    "# Import the necessary libraries\n",
    "import pandas as pd\n",
    "import numpy as np\n",
    "\n",
    "from matplotlib import pyplot as plt\n",
    "from matplotlib.pyplot import figure\n",
    "%matplotlib inline\n",
    "import seaborn as sns\n",
    "\n",
    "import plotly.graph_objects as go\n",
    "\n",
    "import functools"
   ]
  },
  {
   "cell_type": "markdown",
   "metadata": {},
   "source": [
    "# Import The Data"
   ]
  },
  {
   "cell_type": "code",
   "execution_count": 2,
   "metadata": {},
   "outputs": [],
   "source": [
    "# Read in S&P 500 and Campbell Soup Company Data\n",
    "\n",
    "cpb = pd.read_csv('supporting_files/CPB.csv')\n",
    "sandp500 = pd.read_csv('supporting_files/^GSPC.csv')"
   ]
  },
  {
   "cell_type": "markdown",
   "metadata": {},
   "source": [
    "Year-To_Date (YTD) Historical Data Sources:\n",
    "\n",
    "Campbell Soup Company (CPB): https://finance.yahoo.com/quote/CPB/history?p=CPB&.tsrc=fin-srch\n",
    "\n",
    "S&P 500 (^GSPC): https://finance.yahoo.com/quote/%5EGSPC/history?p=%5EGSPC"
   ]
  },
  {
   "cell_type": "code",
   "execution_count": 4,
   "metadata": {},
   "outputs": [
    {
     "data": {
      "text/html": [
       "<div>\n",
       "<style scoped>\n",
       "    .dataframe tbody tr th:only-of-type {\n",
       "        vertical-align: middle;\n",
       "    }\n",
       "\n",
       "    .dataframe tbody tr th {\n",
       "        vertical-align: top;\n",
       "    }\n",
       "\n",
       "    .dataframe thead th {\n",
       "        text-align: right;\n",
       "    }\n",
       "</style>\n",
       "<table border=\"1\" class=\"dataframe\">\n",
       "  <thead>\n",
       "    <tr style=\"text-align: right;\">\n",
       "      <th></th>\n",
       "      <th>Date</th>\n",
       "      <th>Open</th>\n",
       "      <th>High</th>\n",
       "      <th>Low</th>\n",
       "      <th>Close</th>\n",
       "      <th>Adj Close</th>\n",
       "      <th>Volume</th>\n",
       "    </tr>\n",
       "  </thead>\n",
       "  <tbody>\n",
       "    <tr>\n",
       "      <th>0</th>\n",
       "      <td>2018-11-21</td>\n",
       "      <td>40.430000</td>\n",
       "      <td>40.549999</td>\n",
       "      <td>39.340000</td>\n",
       "      <td>39.520000</td>\n",
       "      <td>38.147472</td>\n",
       "      <td>2443500</td>\n",
       "    </tr>\n",
       "    <tr>\n",
       "      <th>1</th>\n",
       "      <td>2018-11-23</td>\n",
       "      <td>39.619999</td>\n",
       "      <td>40.689999</td>\n",
       "      <td>39.529999</td>\n",
       "      <td>40.529999</td>\n",
       "      <td>39.122398</td>\n",
       "      <td>1369500</td>\n",
       "    </tr>\n",
       "    <tr>\n",
       "      <th>2</th>\n",
       "      <td>2018-11-26</td>\n",
       "      <td>40.529999</td>\n",
       "      <td>40.529999</td>\n",
       "      <td>38.790001</td>\n",
       "      <td>39.020000</td>\n",
       "      <td>37.664841</td>\n",
       "      <td>5348400</td>\n",
       "    </tr>\n",
       "    <tr>\n",
       "      <th>3</th>\n",
       "      <td>2018-11-27</td>\n",
       "      <td>39.049999</td>\n",
       "      <td>39.529999</td>\n",
       "      <td>38.889999</td>\n",
       "      <td>39.509998</td>\n",
       "      <td>38.137821</td>\n",
       "      <td>2306900</td>\n",
       "    </tr>\n",
       "    <tr>\n",
       "      <th>4</th>\n",
       "      <td>2018-11-28</td>\n",
       "      <td>39.500000</td>\n",
       "      <td>39.700001</td>\n",
       "      <td>39.090000</td>\n",
       "      <td>39.500000</td>\n",
       "      <td>38.128170</td>\n",
       "      <td>2284900</td>\n",
       "    </tr>\n",
       "  </tbody>\n",
       "</table>\n",
       "</div>"
      ],
      "text/plain": [
       "         Date       Open       High        Low      Close  Adj Close   Volume\n",
       "0  2018-11-21  40.430000  40.549999  39.340000  39.520000  38.147472  2443500\n",
       "1  2018-11-23  39.619999  40.689999  39.529999  40.529999  39.122398  1369500\n",
       "2  2018-11-26  40.529999  40.529999  38.790001  39.020000  37.664841  5348400\n",
       "3  2018-11-27  39.049999  39.529999  38.889999  39.509998  38.137821  2306900\n",
       "4  2018-11-28  39.500000  39.700001  39.090000  39.500000  38.128170  2284900"
      ]
     },
     "execution_count": 4,
     "metadata": {},
     "output_type": "execute_result"
    }
   ],
   "source": [
    "#The CPB data frame header\n",
    "\n",
    "cpb.head()"
   ]
  },
  {
   "cell_type": "code",
   "execution_count": 6,
   "metadata": {},
   "outputs": [
    {
     "data": {
      "text/html": [
       "<div>\n",
       "<style scoped>\n",
       "    .dataframe tbody tr th:only-of-type {\n",
       "        vertical-align: middle;\n",
       "    }\n",
       "\n",
       "    .dataframe tbody tr th {\n",
       "        vertical-align: top;\n",
       "    }\n",
       "\n",
       "    .dataframe thead th {\n",
       "        text-align: right;\n",
       "    }\n",
       "</style>\n",
       "<table border=\"1\" class=\"dataframe\">\n",
       "  <thead>\n",
       "    <tr style=\"text-align: right;\">\n",
       "      <th></th>\n",
       "      <th>Date</th>\n",
       "      <th>Open</th>\n",
       "      <th>High</th>\n",
       "      <th>Low</th>\n",
       "      <th>Close</th>\n",
       "      <th>Adj Close</th>\n",
       "      <th>Volume</th>\n",
       "    </tr>\n",
       "  </thead>\n",
       "  <tbody>\n",
       "    <tr>\n",
       "      <th>0</th>\n",
       "      <td>2018-11-21</td>\n",
       "      <td>2657.739990</td>\n",
       "      <td>2670.729980</td>\n",
       "      <td>2649.820068</td>\n",
       "      <td>2649.929932</td>\n",
       "      <td>2649.929932</td>\n",
       "      <td>3233550000</td>\n",
       "    </tr>\n",
       "    <tr>\n",
       "      <th>1</th>\n",
       "      <td>2018-11-23</td>\n",
       "      <td>2633.360107</td>\n",
       "      <td>2647.550049</td>\n",
       "      <td>2631.090088</td>\n",
       "      <td>2632.560059</td>\n",
       "      <td>2632.560059</td>\n",
       "      <td>1651650000</td>\n",
       "    </tr>\n",
       "    <tr>\n",
       "      <th>2</th>\n",
       "      <td>2018-11-26</td>\n",
       "      <td>2649.969971</td>\n",
       "      <td>2674.350098</td>\n",
       "      <td>2649.969971</td>\n",
       "      <td>2673.449951</td>\n",
       "      <td>2673.449951</td>\n",
       "      <td>3443950000</td>\n",
       "    </tr>\n",
       "    <tr>\n",
       "      <th>3</th>\n",
       "      <td>2018-11-27</td>\n",
       "      <td>2663.750000</td>\n",
       "      <td>2682.530029</td>\n",
       "      <td>2655.889893</td>\n",
       "      <td>2682.169922</td>\n",
       "      <td>2682.169922</td>\n",
       "      <td>3485220000</td>\n",
       "    </tr>\n",
       "    <tr>\n",
       "      <th>4</th>\n",
       "      <td>2018-11-28</td>\n",
       "      <td>2691.449951</td>\n",
       "      <td>2744.000000</td>\n",
       "      <td>2684.379883</td>\n",
       "      <td>2743.790039</td>\n",
       "      <td>2743.790039</td>\n",
       "      <td>3951670000</td>\n",
       "    </tr>\n",
       "  </tbody>\n",
       "</table>\n",
       "</div>"
      ],
      "text/plain": [
       "         Date         Open         High          Low        Close  \\\n",
       "0  2018-11-21  2657.739990  2670.729980  2649.820068  2649.929932   \n",
       "1  2018-11-23  2633.360107  2647.550049  2631.090088  2632.560059   \n",
       "2  2018-11-26  2649.969971  2674.350098  2649.969971  2673.449951   \n",
       "3  2018-11-27  2663.750000  2682.530029  2655.889893  2682.169922   \n",
       "4  2018-11-28  2691.449951  2744.000000  2684.379883  2743.790039   \n",
       "\n",
       "     Adj Close      Volume  \n",
       "0  2649.929932  3233550000  \n",
       "1  2632.560059  1651650000  \n",
       "2  2673.449951  3443950000  \n",
       "3  2682.169922  3485220000  \n",
       "4  2743.790039  3951670000  "
      ]
     },
     "execution_count": 6,
     "metadata": {},
     "output_type": "execute_result"
    }
   ],
   "source": [
    "#The S&P 500 data frame header\n",
    "\n",
    "sandp500.head()"
   ]
  },
  {
   "cell_type": "markdown",
   "metadata": {},
   "source": [
    "# Matplotlib"
   ]
  },
  {
   "cell_type": "code",
   "execution_count": null,
   "metadata": {},
   "outputs": [],
   "source": []
  }
 ],
 "metadata": {
  "kernelspec": {
   "display_name": "Python 3",
   "language": "python",
   "name": "python3"
  },
  "language_info": {
   "codemirror_mode": {
    "name": "ipython",
    "version": 3
   },
   "file_extension": ".py",
   "mimetype": "text/x-python",
   "name": "python",
   "nbconvert_exporter": "python",
   "pygments_lexer": "ipython3",
   "version": "3.7.2"
  }
 },
 "nbformat": 4,
 "nbformat_minor": 2
}
