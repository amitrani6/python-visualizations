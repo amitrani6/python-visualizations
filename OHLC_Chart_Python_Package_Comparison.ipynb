{
 "cells": [
  {
   "cell_type": "code",
   "execution_count": 1,
   "metadata": {},
   "outputs": [],
   "source": [
    "# Import the necessary libraries\n",
    "import pandas as pd\n",
    "import numpy as np\n",
    "\n",
    "\n",
    "import seaborn as sns\n",
    "\n",
    "import plotly.graph_objects as go\n",
    "\n",
    "import functools"
   ]
  },
  {
   "cell_type": "markdown",
   "metadata": {},
   "source": [
    "I created the **python_visualizations** environment with Anaconda for this exercise. "
   ]
  },
  {
   "cell_type": "markdown",
   "metadata": {},
   "source": [
    "# Import The Data"
   ]
  },
  {
   "cell_type": "code",
   "execution_count": 18,
   "metadata": {},
   "outputs": [],
   "source": [
    "# Read in S&P 500 and Campbell Soup Company Data\n",
    "\n",
    "cpb = pd.read_csv('supporting_files/CPB.csv')\n",
    "s_and_p = pd.read_csv('supporting_files/^GSPC.csv')"
   ]
  },
  {
   "cell_type": "markdown",
   "metadata": {},
   "source": [
    "Year-To_Date (YTD) Historical Data Sources:\n",
    "\n",
    "Campbell Soup Company (CPB): https://finance.yahoo.com/quote/CPB/history?p=CPB&.tsrc=fin-srch\n",
    "\n",
    "S&P 500 (^GSPC): https://finance.yahoo.com/quote/%5EGSPC/history?p=%5EGSPC"
   ]
  },
  {
   "cell_type": "code",
   "execution_count": 3,
   "metadata": {},
   "outputs": [
    {
     "data": {
      "text/html": [
       "<div>\n",
       "<style scoped>\n",
       "    .dataframe tbody tr th:only-of-type {\n",
       "        vertical-align: middle;\n",
       "    }\n",
       "\n",
       "    .dataframe tbody tr th {\n",
       "        vertical-align: top;\n",
       "    }\n",
       "\n",
       "    .dataframe thead th {\n",
       "        text-align: right;\n",
       "    }\n",
       "</style>\n",
       "<table border=\"1\" class=\"dataframe\">\n",
       "  <thead>\n",
       "    <tr style=\"text-align: right;\">\n",
       "      <th></th>\n",
       "      <th>Date</th>\n",
       "      <th>Open</th>\n",
       "      <th>High</th>\n",
       "      <th>Low</th>\n",
       "      <th>Close</th>\n",
       "      <th>Adj Close</th>\n",
       "      <th>Volume</th>\n",
       "    </tr>\n",
       "  </thead>\n",
       "  <tbody>\n",
       "    <tr>\n",
       "      <th>0</th>\n",
       "      <td>2018-11-21</td>\n",
       "      <td>40.430000</td>\n",
       "      <td>40.549999</td>\n",
       "      <td>39.340000</td>\n",
       "      <td>39.520000</td>\n",
       "      <td>38.147472</td>\n",
       "      <td>2443500</td>\n",
       "    </tr>\n",
       "    <tr>\n",
       "      <th>1</th>\n",
       "      <td>2018-11-23</td>\n",
       "      <td>39.619999</td>\n",
       "      <td>40.689999</td>\n",
       "      <td>39.529999</td>\n",
       "      <td>40.529999</td>\n",
       "      <td>39.122398</td>\n",
       "      <td>1369500</td>\n",
       "    </tr>\n",
       "    <tr>\n",
       "      <th>2</th>\n",
       "      <td>2018-11-26</td>\n",
       "      <td>40.529999</td>\n",
       "      <td>40.529999</td>\n",
       "      <td>38.790001</td>\n",
       "      <td>39.020000</td>\n",
       "      <td>37.664841</td>\n",
       "      <td>5348400</td>\n",
       "    </tr>\n",
       "    <tr>\n",
       "      <th>3</th>\n",
       "      <td>2018-11-27</td>\n",
       "      <td>39.049999</td>\n",
       "      <td>39.529999</td>\n",
       "      <td>38.889999</td>\n",
       "      <td>39.509998</td>\n",
       "      <td>38.137821</td>\n",
       "      <td>2306900</td>\n",
       "    </tr>\n",
       "    <tr>\n",
       "      <th>4</th>\n",
       "      <td>2018-11-28</td>\n",
       "      <td>39.500000</td>\n",
       "      <td>39.700001</td>\n",
       "      <td>39.090000</td>\n",
       "      <td>39.500000</td>\n",
       "      <td>38.128170</td>\n",
       "      <td>2284900</td>\n",
       "    </tr>\n",
       "  </tbody>\n",
       "</table>\n",
       "</div>"
      ],
      "text/plain": [
       "         Date       Open       High        Low      Close  Adj Close   Volume\n",
       "0  2018-11-21  40.430000  40.549999  39.340000  39.520000  38.147472  2443500\n",
       "1  2018-11-23  39.619999  40.689999  39.529999  40.529999  39.122398  1369500\n",
       "2  2018-11-26  40.529999  40.529999  38.790001  39.020000  37.664841  5348400\n",
       "3  2018-11-27  39.049999  39.529999  38.889999  39.509998  38.137821  2306900\n",
       "4  2018-11-28  39.500000  39.700001  39.090000  39.500000  38.128170  2284900"
      ]
     },
     "execution_count": 3,
     "metadata": {},
     "output_type": "execute_result"
    }
   ],
   "source": [
    "#The CPB data frame header\n",
    "\n",
    "cpb.head()"
   ]
  },
  {
   "cell_type": "code",
   "execution_count": 4,
   "metadata": {
    "scrolled": false
   },
   "outputs": [
    {
     "data": {
      "text/html": [
       "<div>\n",
       "<style scoped>\n",
       "    .dataframe tbody tr th:only-of-type {\n",
       "        vertical-align: middle;\n",
       "    }\n",
       "\n",
       "    .dataframe tbody tr th {\n",
       "        vertical-align: top;\n",
       "    }\n",
       "\n",
       "    .dataframe thead th {\n",
       "        text-align: right;\n",
       "    }\n",
       "</style>\n",
       "<table border=\"1\" class=\"dataframe\">\n",
       "  <thead>\n",
       "    <tr style=\"text-align: right;\">\n",
       "      <th></th>\n",
       "      <th>Date</th>\n",
       "      <th>Open</th>\n",
       "      <th>High</th>\n",
       "      <th>Low</th>\n",
       "      <th>Close</th>\n",
       "      <th>Adj Close</th>\n",
       "      <th>Volume</th>\n",
       "    </tr>\n",
       "  </thead>\n",
       "  <tbody>\n",
       "    <tr>\n",
       "      <th>0</th>\n",
       "      <td>2018-11-21</td>\n",
       "      <td>2657.739990</td>\n",
       "      <td>2670.729980</td>\n",
       "      <td>2649.820068</td>\n",
       "      <td>2649.929932</td>\n",
       "      <td>2649.929932</td>\n",
       "      <td>3233550000</td>\n",
       "    </tr>\n",
       "    <tr>\n",
       "      <th>1</th>\n",
       "      <td>2018-11-23</td>\n",
       "      <td>2633.360107</td>\n",
       "      <td>2647.550049</td>\n",
       "      <td>2631.090088</td>\n",
       "      <td>2632.560059</td>\n",
       "      <td>2632.560059</td>\n",
       "      <td>1651650000</td>\n",
       "    </tr>\n",
       "    <tr>\n",
       "      <th>2</th>\n",
       "      <td>2018-11-26</td>\n",
       "      <td>2649.969971</td>\n",
       "      <td>2674.350098</td>\n",
       "      <td>2649.969971</td>\n",
       "      <td>2673.449951</td>\n",
       "      <td>2673.449951</td>\n",
       "      <td>3443950000</td>\n",
       "    </tr>\n",
       "    <tr>\n",
       "      <th>3</th>\n",
       "      <td>2018-11-27</td>\n",
       "      <td>2663.750000</td>\n",
       "      <td>2682.530029</td>\n",
       "      <td>2655.889893</td>\n",
       "      <td>2682.169922</td>\n",
       "      <td>2682.169922</td>\n",
       "      <td>3485220000</td>\n",
       "    </tr>\n",
       "    <tr>\n",
       "      <th>4</th>\n",
       "      <td>2018-11-28</td>\n",
       "      <td>2691.449951</td>\n",
       "      <td>2744.000000</td>\n",
       "      <td>2684.379883</td>\n",
       "      <td>2743.790039</td>\n",
       "      <td>2743.790039</td>\n",
       "      <td>3951670000</td>\n",
       "    </tr>\n",
       "  </tbody>\n",
       "</table>\n",
       "</div>"
      ],
      "text/plain": [
       "         Date         Open         High          Low        Close  \\\n",
       "0  2018-11-21  2657.739990  2670.729980  2649.820068  2649.929932   \n",
       "1  2018-11-23  2633.360107  2647.550049  2631.090088  2632.560059   \n",
       "2  2018-11-26  2649.969971  2674.350098  2649.969971  2673.449951   \n",
       "3  2018-11-27  2663.750000  2682.530029  2655.889893  2682.169922   \n",
       "4  2018-11-28  2691.449951  2744.000000  2684.379883  2743.790039   \n",
       "\n",
       "     Adj Close      Volume  \n",
       "0  2649.929932  3233550000  \n",
       "1  2632.560059  1651650000  \n",
       "2  2673.449951  3443950000  \n",
       "3  2682.169922  3485220000  \n",
       "4  2743.790039  3951670000  "
      ]
     },
     "execution_count": 4,
     "metadata": {},
     "output_type": "execute_result"
    }
   ],
   "source": [
    "#The S&P 500 data frame header\n",
    "\n",
    "s_and_p.head()"
   ]
  },
  {
   "cell_type": "code",
   "execution_count": 5,
   "metadata": {},
   "outputs": [],
   "source": [
    "# # Convert data frames to string type\n",
    "\n",
    "# cpb.Date = cpb.Date.astype(str)\n",
    "# sandp500.Date = sandp500.Date.astype(str)"
   ]
  },
  {
   "cell_type": "markdown",
   "metadata": {},
   "source": [
    "# Matplotlib"
   ]
  },
  {
   "cell_type": "code",
   "execution_count": 6,
   "metadata": {},
   "outputs": [],
   "source": [
    "# https://stackoverflow.com/questions/42373104/since-matplotlib-finance-has-been-deprecated-how-can-i-use-the-new-mpl-finance/54368690#54368690\n",
    "\n",
    "#Run the following line once\n",
    "#!pip install https://github.com/matplotlib/mpl_finance/archive/master.zip"
   ]
  },
  {
   "cell_type": "code",
   "execution_count": 7,
   "metadata": {},
   "outputs": [],
   "source": [
    "from matplotlib import pyplot as plt\n",
    "import matplotlib.dates as mdates\n",
    "import matplotlib.ticker as mticker\n",
    "\n",
    "# from matplotlib.finance import candlestick_ohlc\n",
    "from mpl_finance import candlestick_ohlc\n",
    "\n",
    "# Import with volume\n",
    "from mpl_finance import volume_overlay3\n",
    "\n",
    "import urllib\n",
    "import datetime as dt\n",
    "\n",
    "from matplotlib.pyplot import figure\n",
    "%matplotlib inline"
   ]
  },
  {
   "cell_type": "code",
   "execution_count": 8,
   "metadata": {},
   "outputs": [],
   "source": [
    "# Make copies of the data frames\n",
    "\n",
    "cpb_mpl = cpb.copy()\n",
    "s_and_p_mpl = s_and_p.copy()"
   ]
  },
  {
   "cell_type": "code",
   "execution_count": 9,
   "metadata": {
    "scrolled": true
   },
   "outputs": [
    {
     "data": {
      "text/html": [
       "<div>\n",
       "<style scoped>\n",
       "    .dataframe tbody tr th:only-of-type {\n",
       "        vertical-align: middle;\n",
       "    }\n",
       "\n",
       "    .dataframe tbody tr th {\n",
       "        vertical-align: top;\n",
       "    }\n",
       "\n",
       "    .dataframe thead th {\n",
       "        text-align: right;\n",
       "    }\n",
       "</style>\n",
       "<table border=\"1\" class=\"dataframe\">\n",
       "  <thead>\n",
       "    <tr style=\"text-align: right;\">\n",
       "      <th></th>\n",
       "      <th>Date</th>\n",
       "      <th>Open</th>\n",
       "      <th>High</th>\n",
       "      <th>Low</th>\n",
       "      <th>Close</th>\n",
       "      <th>Adj Close</th>\n",
       "      <th>Volume</th>\n",
       "    </tr>\n",
       "  </thead>\n",
       "  <tbody>\n",
       "    <tr>\n",
       "      <th>0</th>\n",
       "      <td>2018-11-21</td>\n",
       "      <td>40.430000</td>\n",
       "      <td>40.549999</td>\n",
       "      <td>39.340000</td>\n",
       "      <td>39.520000</td>\n",
       "      <td>38.147472</td>\n",
       "      <td>2443500</td>\n",
       "    </tr>\n",
       "    <tr>\n",
       "      <th>1</th>\n",
       "      <td>2018-11-23</td>\n",
       "      <td>39.619999</td>\n",
       "      <td>40.689999</td>\n",
       "      <td>39.529999</td>\n",
       "      <td>40.529999</td>\n",
       "      <td>39.122398</td>\n",
       "      <td>1369500</td>\n",
       "    </tr>\n",
       "    <tr>\n",
       "      <th>2</th>\n",
       "      <td>2018-11-26</td>\n",
       "      <td>40.529999</td>\n",
       "      <td>40.529999</td>\n",
       "      <td>38.790001</td>\n",
       "      <td>39.020000</td>\n",
       "      <td>37.664841</td>\n",
       "      <td>5348400</td>\n",
       "    </tr>\n",
       "    <tr>\n",
       "      <th>3</th>\n",
       "      <td>2018-11-27</td>\n",
       "      <td>39.049999</td>\n",
       "      <td>39.529999</td>\n",
       "      <td>38.889999</td>\n",
       "      <td>39.509998</td>\n",
       "      <td>38.137821</td>\n",
       "      <td>2306900</td>\n",
       "    </tr>\n",
       "    <tr>\n",
       "      <th>4</th>\n",
       "      <td>2018-11-28</td>\n",
       "      <td>39.500000</td>\n",
       "      <td>39.700001</td>\n",
       "      <td>39.090000</td>\n",
       "      <td>39.500000</td>\n",
       "      <td>38.128170</td>\n",
       "      <td>2284900</td>\n",
       "    </tr>\n",
       "  </tbody>\n",
       "</table>\n",
       "</div>"
      ],
      "text/plain": [
       "         Date       Open       High        Low      Close  Adj Close   Volume\n",
       "0  2018-11-21  40.430000  40.549999  39.340000  39.520000  38.147472  2443500\n",
       "1  2018-11-23  39.619999  40.689999  39.529999  40.529999  39.122398  1369500\n",
       "2  2018-11-26  40.529999  40.529999  38.790001  39.020000  37.664841  5348400\n",
       "3  2018-11-27  39.049999  39.529999  38.889999  39.509998  38.137821  2306900\n",
       "4  2018-11-28  39.500000  39.700001  39.090000  39.500000  38.128170  2284900"
      ]
     },
     "execution_count": 9,
     "metadata": {},
     "output_type": "execute_result"
    }
   ],
   "source": [
    "cpb_mpl.head()"
   ]
  },
  {
   "cell_type": "code",
   "execution_count": 10,
   "metadata": {},
   "outputs": [
    {
     "data": {
      "text/plain": [
       "str"
      ]
     },
     "execution_count": 10,
     "metadata": {},
     "output_type": "execute_result"
    }
   ],
   "source": [
    "type(cpb_mpl.Date[0])"
   ]
  },
  {
   "cell_type": "code",
   "execution_count": 11,
   "metadata": {},
   "outputs": [],
   "source": [
    "# Convert Date column to Matplotlib's float format\n",
    "\n",
    "# https://matplotlib.org/3.1.1/api/dates_api.html#matplotlib.dates.date2num\n",
    "\n",
    "import matplotlib.dates as dates\n",
    "cpb_mpl.Date = dates.datestr2num(cpb_mpl.Date)\n",
    "s_and_p_mpl.Date = dates.datestr2num(s_and_p_mpl.Date)"
   ]
  },
  {
   "cell_type": "code",
   "execution_count": 12,
   "metadata": {},
   "outputs": [
    {
     "data": {
      "text/plain": [
       "str"
      ]
     },
     "execution_count": 12,
     "metadata": {},
     "output_type": "execute_result"
    }
   ],
   "source": [
    "type(cpb.Date[0])"
   ]
  },
  {
   "cell_type": "code",
   "execution_count": 13,
   "metadata": {},
   "outputs": [],
   "source": [
    "# https://stackoverflow.com/a/9762084\n",
    "\n",
    "cpb_subset = cpb_mpl[['Date', 'Open', 'High', 'Low', 'Close', 'Volume']]\n",
    "cpb_list = [list(x) for x in cpb_subset.values]\n",
    "# cpb_list = [i for sub in cpb_list for i in sub]\n",
    "\n",
    "sandp500_subset = s_and_p_mpl[['Date', 'Open', 'High', 'Low', 'Close', 'Volume']]\n",
    "sandp500_list = [list(x) for x in sandp500_subset.values]\n",
    "# sandp500_list = [i for sub in sandp500_list for i in sub]"
   ]
  },
  {
   "cell_type": "code",
   "execution_count": 19,
   "metadata": {
    "scrolled": true
   },
   "outputs": [
    {
     "data": {
      "image/png": "[encoded data removed]",
      "text/plain": [
       "<Figure size 432x288 with 1 Axes>"
      ]
     },
     "metadata": {
      "needs_background": "light"
     },
     "output_type": "display_data"
    }
   ],
   "source": [
    "# https://pythonprogramming.net/candlestick-ohlc-graph-matplotlib-tutorial/\n",
    "\n",
    "fig = plt.figure()\n",
    "ax1 = plt.subplot2grid((1,1), (0,0))\n",
    "\n",
    "candlestick_ohlc(ax1, cpb_list, width=0.4, colorup='#77d879', colordown='#db3f3f')\n",
    "\n",
    "for label in ax1.xaxis.get_ticklabels():\n",
    "     label.set_rotation(45)\n",
    "\n",
    "ax1.xaxis.set_major_formatter(mdates.DateFormatter('%Y-%m-%d'))\n",
    "ax1.xaxis.set_major_locator(mticker.MaxNLocator(10))\n",
    "ax1.grid(True)\n",
    "\n",
    "\n",
    "plt.xlabel('Date')\n",
    "plt.ylabel('Price')\n",
    "plt.title('Campbell Soup Company')\n",
    "plt.subplots_adjust(left=0.09, bottom=0.20, right=0.94, top=0.90, wspace=0.2, hspace=0)\n",
    "plt.show()"
   ]
  },
  {
   "cell_type": "markdown",
   "metadata": {},
   "source": [
    "# Seaborn"
   ]
  },
  {
   "cell_type": "code",
   "execution_count": 22,
   "metadata": {
    "scrolled": true
   },
   "outputs": [
    {
     "data": {
      "text/html": [
       "<div>\n",
       "<style scoped>\n",
       "    .dataframe tbody tr th:only-of-type {\n",
       "        vertical-align: middle;\n",
       "    }\n",
       "\n",
       "    .dataframe tbody tr th {\n",
       "        vertical-align: top;\n",
       "    }\n",
       "\n",
       "    .dataframe thead th {\n",
       "        text-align: right;\n",
       "    }\n",
       "</style>\n",
       "<table border=\"1\" class=\"dataframe\">\n",
       "  <thead>\n",
       "    <tr style=\"text-align: right;\">\n",
       "      <th></th>\n",
       "      <th>Date</th>\n",
       "      <th>Open</th>\n",
       "      <th>High</th>\n",
       "      <th>Low</th>\n",
       "      <th>Close</th>\n",
       "      <th>Adj Close</th>\n",
       "      <th>Volume</th>\n",
       "    </tr>\n",
       "  </thead>\n",
       "  <tbody>\n",
       "    <tr>\n",
       "      <th>0</th>\n",
       "      <td>2018-11-21</td>\n",
       "      <td>40.430000</td>\n",
       "      <td>40.549999</td>\n",
       "      <td>39.340000</td>\n",
       "      <td>39.520000</td>\n",
       "      <td>38.147472</td>\n",
       "      <td>2443500</td>\n",
       "    </tr>\n",
       "    <tr>\n",
       "      <th>1</th>\n",
       "      <td>2018-11-23</td>\n",
       "      <td>39.619999</td>\n",
       "      <td>40.689999</td>\n",
       "      <td>39.529999</td>\n",
       "      <td>40.529999</td>\n",
       "      <td>39.122398</td>\n",
       "      <td>1369500</td>\n",
       "    </tr>\n",
       "    <tr>\n",
       "      <th>2</th>\n",
       "      <td>2018-11-26</td>\n",
       "      <td>40.529999</td>\n",
       "      <td>40.529999</td>\n",
       "      <td>38.790001</td>\n",
       "      <td>39.020000</td>\n",
       "      <td>37.664841</td>\n",
       "      <td>5348400</td>\n",
       "    </tr>\n",
       "    <tr>\n",
       "      <th>3</th>\n",
       "      <td>2018-11-27</td>\n",
       "      <td>39.049999</td>\n",
       "      <td>39.529999</td>\n",
       "      <td>38.889999</td>\n",
       "      <td>39.509998</td>\n",
       "      <td>38.137821</td>\n",
       "      <td>2306900</td>\n",
       "    </tr>\n",
       "    <tr>\n",
       "      <th>4</th>\n",
       "      <td>2018-11-28</td>\n",
       "      <td>39.500000</td>\n",
       "      <td>39.700001</td>\n",
       "      <td>39.090000</td>\n",
       "      <td>39.500000</td>\n",
       "      <td>38.128170</td>\n",
       "      <td>2284900</td>\n",
       "    </tr>\n",
       "  </tbody>\n",
       "</table>\n",
       "</div>"
      ],
      "text/plain": [
       "         Date       Open       High        Low      Close  Adj Close   Volume\n",
       "0  2018-11-21  40.430000  40.549999  39.340000  39.520000  38.147472  2443500\n",
       "1  2018-11-23  39.619999  40.689999  39.529999  40.529999  39.122398  1369500\n",
       "2  2018-11-26  40.529999  40.529999  38.790001  39.020000  37.664841  5348400\n",
       "3  2018-11-27  39.049999  39.529999  38.889999  39.509998  38.137821  2306900\n",
       "4  2018-11-28  39.500000  39.700001  39.090000  39.500000  38.128170  2284900"
      ]
     },
     "execution_count": 22,
     "metadata": {},
     "output_type": "execute_result"
    }
   ],
   "source": [
    "cpb.head()"
   ]
  },
  {
   "cell_type": "code",
   "execution_count": 21,
   "metadata": {},
   "outputs": [
    {
     "data": {
      "text/plain": [
       "str"
      ]
     },
     "execution_count": 21,
     "metadata": {},
     "output_type": "execute_result"
    }
   ],
   "source": [
    "type(cpb.Date[0])"
   ]
  },
  {
   "cell_type": "code",
   "execution_count": 23,
   "metadata": {},
   "outputs": [
    {
     "data": {
      "application/vnd.plotly.v1+json": {
       "config": {
        "plotlyServerURL": "https://plot.ly"
       },
       "data": [
        {
         "close": [
          39.52,
          40.529999,
          39.02,
          39.509997999999996,
          39.5,
          39.630001,
          39.200001,
          38.759997999999996,
          38.59,
          38.220001,
          37.77,
          37.720001,
          38.82,
          38.860001000000004,
          39.400002,
          39.16,
          38.830002,
          38.490002000000004,
          38.650002,
          37.669998,
          35.75,
          33.419998,
          34.25,
          33.5,
          33.439999,
          32.990002000000004,
          32.259997999999996,
          32.66,
          32.84,
          33.689999,
          33.59,
          34.18,
          34.48,
          35.040001000000004,
          35.040001000000004,
          35.529999,
          35.279999,
          35.779999,
          35.490002000000004,
          35.389998999999996,
          35.380001,
          34.720001,
          34.240002000000004,
          34.610001000000004,
          34.490002000000004,
          34.889998999999996,
          35.43,
          35.009997999999996,
          35.009997999999996,
          34.959998999999996,
          34.189999,
          34.200001,
          34.290001000000004,
          34.16,
          34.560001,
          34.66,
          34.450001,
          34.790001000000004,
          35.009997999999996,
          35.18,
          35.439999,
          32.830002,
          32.259997999999996,
          32.91,
          36.209998999999996,
          36.02,
          36.349998,
          36,
          36.099998,
          36.139998999999996,
          35.919998,
          36.02,
          35.900002,
          35.049999,
          35.27,
          35.639998999999996,
          36.009997999999996,
          36.560001,
          36.299999,
          36.32,
          37.860001000000004,
          38.240002000000004,
          38.279999,
          38.52,
          37.950001,
          38.299999,
          38.130001,
          37.849998,
          37.619999,
          37.25,
          37.450001,
          38.259997999999996,
          38.529999,
          39.490002000000004,
          39.130001,
          39.66,
          39.810001,
          39.84,
          39.43,
          39.130001,
          39.389998999999996,
          39.32,
          38.900002,
          39,
          38.18,
          38.639998999999996,
          38.34,
          38.689999,
          38.32,
          37.91,
          38.27,
          38.209998999999996,
          38.23,
          38.59,
          38.959998999999996,
          38.740002000000004,
          38.720001,
          38.669998,
          38.98,
          38.93,
          39.130001,
          38.75,
          38.419998,
          37.860001000000004,
          38.110001000000004,
          37.529999,
          36.779999,
          36.220001,
          35.799999,
          36.310001,
          37.369999,
          38.110001000000004,
          41.93,
          43.009997999999996,
          43.080002,
          42.009997999999996,
          42.529999,
          42.43,
          42.639998999999996,
          42.259997999999996,
          41.369999,
          40.860001000000004,
          41.259997999999996,
          41.029999,
          40.689999,
          40.529999,
          41.040001000000004,
          40.459998999999996,
          39.75,
          40.07,
          40.119999,
          40.639998999999996,
          41.669998,
          41.57,
          41.5,
          41.459998999999996,
          41.400002,
          40.869999,
          40.919998,
          41.119999,
          41.290001000000004,
          41.349998,
          41.68,
          41.27,
          41.139998999999996,
          41.470001,
          40.52,
          40.400002,
          40.959998999999996,
          41.34,
          41.66,
          41.34,
          42.110001000000004,
          42.34,
          41.209998999999996,
          41.259997999999996,
          41.57,
          42.029999,
          41.790001000000004,
          42.110001000000004,
          42.259997999999996,
          41.459998999999996,
          42.16,
          42.639998999999996,
          43.189999,
          43.080002,
          43.27,
          43.68,
          42.68,
          42.66,
          42.049999,
          41.970001,
          43.310001,
          45,
          45.43,
          45.07,
          44.619999,
          44.98,
          44.59,
          45.889998999999996,
          46.66,
          47.150002,
          46.279999,
          46.740002000000004,
          46.689999,
          46.580002,
          46.610001000000004,
          46.759997999999996,
          46.66,
          46.150002,
          46.560001,
          46.700001,
          46.869999,
          46.919998,
          46.82,
          46.16,
          46.77,
          47.34,
          47,
          46.77,
          46.830002,
          47.32,
          46.869999,
          46.830002,
          46.610001000000004,
          47.169998,
          47.959998999999996,
          47.560001,
          47.889998999999996,
          47.669998,
          47.799999,
          47.080002,
          46.459998999999996,
          46.560001,
          46.490002000000004,
          46.27,
          46.310001,
          46.540001000000004,
          46.34,
          46.490002000000004,
          46.599998,
          46.419998,
          46.25,
          46.07,
          46.380001,
          47.369999,
          47.07,
          47.279999,
          48.040001000000004,
          48.16,
          48.279999,
          46.84
         ],
         "high": [
          40.549999,
          40.689999,
          40.529999,
          39.529999,
          39.700001,
          39.849998,
          39.52,
          39.23,
          39.52,
          38.799999,
          38.099998,
          37.900002,
          38.950001,
          39.369999,
          39.580002,
          39.509997999999996,
          39.59,
          39.380001,
          39.43,
          38.580002,
          38.23,
          35.759997999999996,
          34.310001,
          34.139998999999996,
          34.18,
          33.549999,
          32.880001,
          33.080002,
          33.110001000000004,
          33.900002,
          33.75,
          34.490002000000004,
          34.59,
          35.130001,
          35.290001000000004,
          35.599998,
          35.759997999999996,
          35.950001,
          35.810001,
          35.41,
          35.599998,
          35.169998,
          35.150002,
          34.700001,
          34.799999,
          35.110001000000004,
          35.470001,
          35.560001,
          35.290001000000004,
          35.299999,
          35.16,
          34.380001,
          34.400002,
          34.650002,
          34.869999,
          34.810001,
          34.66,
          35.110001000000004,
          35.32,
          35.5,
          35.560001,
          34.029999,
          33.09,
          33.349998,
          36.490002000000004,
          36.43,
          36.5,
          36.5,
          36.200001,
          36.240002000000004,
          36.290001000000004,
          36.049999,
          36.09,
          35.939999,
          35.57,
          35.799999,
          36.16,
          36.669998,
          36.73,
          36.709998999999996,
          37.93,
          38.369999,
          38.34,
          38.84,
          38.549999,
          38.529999,
          38.450001,
          38.09,
          38.080002,
          37.669998,
          37.549999,
          38.290001000000004,
          38.790001000000004,
          39.810001,
          39.57,
          39.869999,
          39.959998999999996,
          40.220001,
          39.98,
          39.700001,
          39.599998,
          39.580002,
          39.5,
          39.490002000000004,
          38.869999,
          38.66,
          38.73,
          38.720001,
          38.779999,
          38.02,
          38.330002,
          38.419998,
          38.310001,
          38.860001000000004,
          38.990002000000004,
          38.990002000000004,
          39.16,
          38.849998,
          39.09,
          39.439999,
          39.389998999999996,
          39.259997999999996,
          39.009997999999996,
          38.240002000000004,
          38.209998999999996,
          38.189999,
          37.759997999999996,
          36.709998999999996,
          36.610001000000004,
          36.439999,
          37.419998,
          38.68,
          42,
          43.220001,
          43.66,
          43.110001000000004,
          42.540001000000004,
          43.060001,
          42.720001,
          42.740002000000004,
          42.220001,
          41.639998999999996,
          41.380001,
          41.459998999999996,
          41.259997999999996,
          41.09,
          41.130001,
          40.919998,
          40.130001,
          40.259997999999996,
          40.580002,
          40.68,
          41.779999,
          41.66,
          41.650002,
          41.610001000000004,
          41.669998,
          41.23,
          41.049999,
          41.27,
          41.41,
          41.490002000000004,
          41.77,
          41.799999,
          41.41,
          41.639998999999996,
          41.330002,
          40.66,
          41.07,
          41.419998,
          41.790001000000004,
          41.75,
          42.470001,
          42.720001,
          42.290001000000004,
          41.43,
          41.73,
          42.130001,
          42.700001,
          42.299999,
          42.57,
          42.240002000000004,
          42.349998,
          42.720001,
          43.369999,
          43.43,
          43.759997999999996,
          43.84,
          43.700001,
          43.110001000000004,
          42.66,
          42.080002,
          43.52,
          48.029999,
          45.5,
          46.200001,
          45.130001,
          45.200001,
          45.080002,
          45.939999,
          46.66,
          47.459998999999996,
          47.349998,
          46.779999,
          47.119999,
          46.939999,
          46.73,
          47.25,
          47.040001000000004,
          46.939999,
          46.889998999999996,
          46.939999,
          46.98,
          47.27,
          47.200001,
          46.799999,
          46.939999,
          47.419998,
          47.380001,
          47.220001,
          46.84,
          47.380001,
          47.470001,
          47.02,
          46.830002,
          47.200001,
          48.380001,
          48.23,
          48.200001,
          48,
          48.07,
          47.740002000000004,
          47.18,
          46.57,
          47.02,
          46.810001,
          46.779999,
          46.860001000000004,
          46.619999,
          46.799999,
          47.060001,
          47.130001,
          46.400002,
          46.25,
          46.419998,
          47.41,
          47.560001,
          47.360001000000004,
          48.119999,
          48.209998999999996,
          48.389998999999996,
          48.200001
         ],
         "low": [
          39.34,
          39.529999,
          38.790001000000004,
          38.889998999999996,
          39.09,
          39.299999,
          38.709998999999996,
          38.380001,
          38.470001,
          37.529999,
          37.490002000000004,
          36.91,
          37.77,
          38.669998,
          38.700001,
          38.959998999999996,
          38.57,
          38.299999,
          38.459998999999996,
          37.07,
          35.75,
          33.119999,
          32.209998999999996,
          32.389998999999996,
          33.25,
          32.549999,
          32.029999,
          32.09,
          32.380001,
          32.43,
          33.080002,
          33.419998,
          33.75,
          34.279999,
          34.650002,
          34.799999,
          35.16,
          35.139998999999996,
          35.32,
          34.700001,
          34.830002,
          34.259997999999996,
          34.189999,
          34.09,
          34.259997999999996,
          34.279999,
          34.759997999999996,
          34.889998999999996,
          34.73,
          34.650002,
          34.169998,
          33.450001,
          34.060001,
          33.849998,
          34.080002,
          34.470001,
          34.200001,
          34.66,
          34.630001,
          34.860001000000004,
          34.919998,
          32.259997999999996,
          32.169998,
          32.669998,
          33.16,
          35.23,
          35.580002,
          35.380001,
          35.73,
          35.849998,
          35.73,
          35.599998,
          35.549999,
          35.029999,
          35.029999,
          35.279999,
          35.59,
          36.040001000000004,
          36.150002,
          36.279999,
          36.189999,
          37.709998999999996,
          37.869999,
          38.220001,
          37.740002000000004,
          37.93,
          37.77,
          37.52,
          37.490002000000004,
          37.18,
          37.27,
          37.52,
          38.119999,
          38.459998999999996,
          38.91,
          39.189999,
          39.470001,
          39.540001000000004,
          39.380001,
          39.080002,
          39.099998,
          39.16,
          38.779999,
          38.75,
          38.119999,
          38.09,
          38.240002000000004,
          38.139998999999996,
          38.110001000000004,
          37.59,
          37.650002,
          37.900002,
          37.619999,
          38.040001000000004,
          38.27,
          38.16,
          38.529999,
          38.279999,
          38.389998999999996,
          38.860001000000004,
          38.75,
          38.689999,
          38.220001,
          37.77,
          37.549999,
          37.509997999999996,
          36.639998999999996,
          36.02,
          35.75,
          35.27,
          36.220001,
          37.419998,
          39.900002,
          41.66,
          42.669998,
          41.580002,
          41.720001,
          42.27,
          42.119999,
          42.150002,
          40.889998999999996,
          40.610001000000004,
          40.700001,
          40.599998,
          40.599998,
          40.419998,
          40.5,
          40.049999,
          39.240002000000004,
          39.77,
          39.779999,
          39.990002000000004,
          40.810001,
          40.810001,
          41.290001000000004,
          41.18,
          41.32,
          40.389998999999996,
          40.759997999999996,
          40.709998999999996,
          41.09,
          41.080002,
          41.27,
          41.23,
          40.950001,
          41.060001,
          40.380001,
          40.029999,
          40.18,
          40.810001,
          41.169998,
          40.82,
          41.529999,
          41.860001000000004,
          40.82,
          40.689999,
          40.610001000000004,
          41.150002,
          41.650002,
          41.619999,
          41.790001000000004,
          41.380001,
          41.259997999999996,
          42.189999,
          42.470001,
          42.810001,
          42.869999,
          43.27,
          42.400002,
          42.41,
          41.669998,
          41.560001,
          41.889998999999996,
          44.75,
          44.139998999999996,
          45.049999,
          44.27,
          44.529999,
          44.110001000000004,
          44.299999,
          45.639998999999996,
          46.889998999999996,
          46.009997999999996,
          45.82,
          46.439999,
          46.119999,
          46.18,
          46.490002000000004,
          46.66,
          46.130001,
          46.23,
          46.419998,
          46.41,
          46.790001000000004,
          46.66,
          46.119999,
          45.950001,
          46.779999,
          46.799999,
          46.66,
          46.380001,
          46.529999,
          46.82,
          46.549999,
          45.77,
          46.529999,
          47.349998,
          47.540001000000004,
          47.560001,
          47.450001,
          47.450001,
          46.73,
          46.27,
          46.07,
          46.349998,
          46.029999,
          46.009997999999996,
          46.189999,
          46.07,
          46.25,
          46.529999,
          46.18,
          45.91,
          45.849998,
          46.099998,
          46.27,
          46.889998999999996,
          46.540001000000004,
          47.07,
          47.880001,
          47.91,
          46.84
         ],
         "open": [
          40.43,
          39.619999,
          40.529999,
          39.049999,
          39.5,
          39.419998,
          39.48,
          39.189999,
          38.950001,
          38.720001,
          38.099998,
          37.900002,
          37.77,
          38.799999,
          38.720001,
          39.25,
          39.099998,
          38.869999,
          38.880001,
          38.43,
          37.709998999999996,
          35.689999,
          33.610001000000004,
          34.139998999999996,
          33.599998,
          33.459998999999996,
          32.759997999999996,
          32.220001,
          32.619999,
          32.73,
          33.34,
          33.580002,
          33.959998999999996,
          34.57,
          34.849998,
          34.939999,
          35.360001000000004,
          35.310001,
          35.650002,
          35.299999,
          35.450001,
          34.810001,
          34.860001000000004,
          34.169998,
          34.599998,
          34.48,
          34.919998,
          35.560001,
          35.02,
          35.009997999999996,
          35,
          33.68,
          34.060001,
          34.349998,
          34.220001,
          34.610001000000004,
          34.5,
          34.73,
          34.830002,
          34.98,
          35.16,
          33.77,
          32.959998999999996,
          32.849998,
          34.049999,
          36.209998999999996,
          36,
          36.380001,
          36,
          36.099998,
          36.16,
          35.98,
          35.93,
          35.919998,
          35.099998,
          35.369999,
          35.639998999999996,
          36.060001,
          36.52,
          36.389998999999996,
          36.52,
          37.740002000000004,
          38.200001,
          38.389998999999996,
          38.369999,
          38.02,
          38.330002,
          38.040001000000004,
          37.91,
          37.619999,
          37.360001000000004,
          37.52,
          38.189999,
          38.459998999999996,
          39.189999,
          39.259997999999996,
          39.540001000000004,
          39.540001000000004,
          39.84,
          39.59,
          39.209998999999996,
          39.419998,
          39.27,
          39.040001000000004,
          38.869999,
          38.240002000000004,
          38.630001,
          38.360001000000004,
          38.740002000000004,
          37.93,
          37.919998,
          38.189999,
          38.119999,
          38.290001000000004,
          38.380001,
          38.810001,
          38.610001000000004,
          38.720001,
          38.66,
          39.110001000000004,
          38.77,
          39.130001,
          38.919998,
          38.240002000000004,
          37.720001,
          38.189999,
          37.48,
          36.41,
          36.27,
          35.68,
          36.220001,
          37.419998,
          40.310001,
          41.73,
          43.189999,
          43.080002,
          41.950001,
          42.68,
          42.419998,
          42.740002000000004,
          42.220001,
          41.52,
          40.759997999999996,
          41.279999,
          41.060001,
          40.889998999999996,
          40.5,
          40.5,
          40.07,
          39.880001,
          40.439999,
          40.27,
          40.849998,
          41.470001,
          41.580002,
          41.57,
          41.5,
          41.23,
          40.91,
          40.950001,
          41.169998,
          41.380001,
          41.529999,
          41.650002,
          41.279999,
          41.290001000000004,
          41.330002,
          40.330002,
          40.580002,
          41.02,
          41.369999,
          41.650002,
          41.529999,
          42.25,
          42.099998,
          41.18,
          41.169998,
          41.209998999999996,
          42.150002,
          41.75,
          42.060001,
          42.23,
          41.470001,
          42.41,
          42.66,
          43.43,
          43.290001000000004,
          43.27,
          43.68,
          42.830002,
          42.599998,
          41.98,
          42.23,
          44.919998,
          44.810001,
          45.700001,
          45.130001,
          44.779999,
          45.07,
          44.43,
          45.889998999999996,
          46.900002,
          46.889998999999996,
          46.07,
          46.57,
          46.709998999999996,
          46.59,
          46.490002000000004,
          46.91,
          46.849998,
          46.259997999999996,
          46.91,
          46.73,
          46.849998,
          47,
          46.639998999999996,
          46.290001000000004,
          46.939999,
          47.060001,
          47.009997999999996,
          46.59,
          46.59,
          47.32,
          46.880001,
          46.830002,
          46.610001000000004,
          47.5,
          47.900002,
          47.560001,
          48,
          47.709998999999996,
          47.630001,
          47.18,
          46.41,
          46.759997999999996,
          46.630001,
          46.349998,
          46.27,
          46.439999,
          46.27,
          46.59,
          46.959998999999996,
          46.380001,
          46.240002000000004,
          46.189999,
          46.509997999999996,
          47.459998999999996,
          46.93,
          47.16,
          48,
          48.23,
          48.029999
         ],
         "type": "ohlc",
         "x": [
          "2018-11-21",
          "2018-11-23",
          "2018-11-26",
          "2018-11-27",
          "2018-11-28",
          "2018-11-29",
          "2018-11-30",
          "2018-12-03",
          "2018-12-04",
          "2018-12-06",
          "2018-12-07",
          "2018-12-10",
          "2018-12-11",
          "2018-12-12",
          "2018-12-13",
          "2018-12-14",
          "2018-12-17",
          "2018-12-18",
          "2018-12-19",
          "2018-12-20",
          "2018-12-21",
          "2018-12-24",
          "2018-12-26",
          "2018-12-27",
          "2018-12-28",
          "2018-12-31",
          "2019-01-02",
          "2019-01-03",
          "2019-01-04",
          "2019-01-07",
          "2019-01-08",
          "2019-01-09",
          "2019-01-10",
          "2019-01-11",
          "2019-01-14",
          "2019-01-15",
          "2019-01-16",
          "2019-01-17",
          "2019-01-18",
          "2019-01-22",
          "2019-01-23",
          "2019-01-24",
          "2019-01-25",
          "2019-01-28",
          "2019-01-29",
          "2019-01-30",
          "2019-01-31",
          "2019-02-01",
          "2019-02-04",
          "2019-02-05",
          "2019-02-06",
          "2019-02-07",
          "2019-02-08",
          "2019-02-11",
          "2019-02-12",
          "2019-02-13",
          "2019-02-14",
          "2019-02-15",
          "2019-02-19",
          "2019-02-20",
          "2019-02-21",
          "2019-02-22",
          "2019-02-25",
          "2019-02-26",
          "2019-02-27",
          "2019-02-28",
          "2019-03-01",
          "2019-03-04",
          "2019-03-05",
          "2019-03-06",
          "2019-03-07",
          "2019-03-08",
          "2019-03-11",
          "2019-03-12",
          "2019-03-13",
          "2019-03-14",
          "2019-03-15",
          "2019-03-18",
          "2019-03-19",
          "2019-03-20",
          "2019-03-21",
          "2019-03-22",
          "2019-03-25",
          "2019-03-26",
          "2019-03-27",
          "2019-03-28",
          "2019-03-29",
          "2019-04-01",
          "2019-04-02",
          "2019-04-03",
          "2019-04-04",
          "2019-04-05",
          "2019-04-08",
          "2019-04-09",
          "2019-04-10",
          "2019-04-11",
          "2019-04-12",
          "2019-04-15",
          "2019-04-16",
          "2019-04-17",
          "2019-04-18",
          "2019-04-22",
          "2019-04-23",
          "2019-04-24",
          "2019-04-25",
          "2019-04-26",
          "2019-04-29",
          "2019-04-30",
          "2019-05-01",
          "2019-05-02",
          "2019-05-03",
          "2019-05-06",
          "2019-05-07",
          "2019-05-08",
          "2019-05-09",
          "2019-05-10",
          "2019-05-13",
          "2019-05-14",
          "2019-05-15",
          "2019-05-16",
          "2019-05-17",
          "2019-05-20",
          "2019-05-21",
          "2019-05-22",
          "2019-05-23",
          "2019-05-24",
          "2019-05-28",
          "2019-05-29",
          "2019-05-30",
          "2019-05-31",
          "2019-06-03",
          "2019-06-04",
          "2019-06-05",
          "2019-06-06",
          "2019-06-07",
          "2019-06-10",
          "2019-06-11",
          "2019-06-12",
          "2019-06-13",
          "2019-06-14",
          "2019-06-17",
          "2019-06-18",
          "2019-06-19",
          "2019-06-20",
          "2019-06-21",
          "2019-06-24",
          "2019-06-25",
          "2019-06-26",
          "2019-06-27",
          "2019-06-28",
          "2019-07-01",
          "2019-07-02",
          "2019-07-03",
          "2019-07-05",
          "2019-07-08",
          "2019-07-09",
          "2019-07-10",
          "2019-07-11",
          "2019-07-12",
          "2019-07-15",
          "2019-07-16",
          "2019-07-17",
          "2019-07-18",
          "2019-07-19",
          "2019-07-22",
          "2019-07-23",
          "2019-07-24",
          "2019-07-25",
          "2019-07-26",
          "2019-07-29",
          "2019-07-30",
          "2019-07-31",
          "2019-08-01",
          "2019-08-02",
          "2019-08-05",
          "2019-08-06",
          "2019-08-07",
          "2019-08-08",
          "2019-08-09",
          "2019-08-12",
          "2019-08-13",
          "2019-08-14",
          "2019-08-15",
          "2019-08-16",
          "2019-08-19",
          "2019-08-20",
          "2019-08-21",
          "2019-08-22",
          "2019-08-23",
          "2019-08-26",
          "2019-08-27",
          "2019-08-28",
          "2019-08-29",
          "2019-08-30",
          "2019-09-03",
          "2019-09-04",
          "2019-09-05",
          "2019-09-06",
          "2019-09-09",
          "2019-09-10",
          "2019-09-11",
          "2019-09-12",
          "2019-09-13",
          "2019-09-16",
          "2019-09-17",
          "2019-09-18",
          "2019-09-19",
          "2019-09-20",
          "2019-09-23",
          "2019-09-24",
          "2019-09-25",
          "2019-09-26",
          "2019-09-27",
          "2019-09-30",
          "2019-10-01",
          "2019-10-02",
          "2019-10-03",
          "2019-10-04",
          "2019-10-07",
          "2019-10-08",
          "2019-10-09",
          "2019-10-10",
          "2019-10-11",
          "2019-10-14",
          "2019-10-15",
          "2019-10-16",
          "2019-10-17",
          "2019-10-18",
          "2019-10-21",
          "2019-10-22",
          "2019-10-23",
          "2019-10-24",
          "2019-10-25",
          "2019-10-28",
          "2019-10-29",
          "2019-10-30",
          "2019-10-31",
          "2019-11-01",
          "2019-11-04",
          "2019-11-05",
          "2019-11-06",
          "2019-11-07",
          "2019-11-08",
          "2019-11-11",
          "2019-11-12",
          "2019-11-13",
          "2019-11-14",
          "2019-11-15",
          "2019-11-18",
          "2019-11-19",
          "2019-11-20",
          "2019-11-21"
         ]
        }
       ],
       "layout": {
        "template": {
         "data": {
          "bar": [
           {
            "error_x": {
             "color": "#2a3f5f"
            },
            "error_y": {
             "color": "#2a3f5f"
            },
            "marker": {
             "line": {
              "color": "#E5ECF6",
              "width": 0.5
             }
            },
            "type": "bar"
           }
          ],
          "barpolar": [
           {
            "marker": {
             "line": {
              "color": "#E5ECF6",
              "width": 0.5
             }
            },
            "type": "barpolar"
           }
          ],
          "carpet": [
           {
            "aaxis": {
             "endlinecolor": "#2a3f5f",
             "gridcolor": "white",
             "linecolor": "white",
             "minorgridcolor": "white",
             "startlinecolor": "#2a3f5f"
            },
            "baxis": {
             "endlinecolor": "#2a3f5f",
             "gridcolor": "white",
             "linecolor": "white",
             "minorgridcolor": "white",
             "startlinecolor": "#2a3f5f"
            },
            "type": "carpet"
           }
          ],
          "choropleth": [
           {
            "colorbar": {
             "outlinewidth": 0,
             "ticks": ""
            },
            "type": "choropleth"
           }
          ],
          "contour": [
           {
            "colorbar": {
             "outlinewidth": 0,
             "ticks": ""
            },
            "colorscale": [
             [
              0,
              "#0d0887"
             ],
             [
              0.1111111111111111,
              "#46039f"
             ],
             [
              0.2222222222222222,
              "#7201a8"
             ],
             [
              0.3333333333333333,
              "#9c179e"
             ],
             [
              0.4444444444444444,
              "#bd3786"
             ],
             [
              0.5555555555555556,
              "#d8576b"
             ],
             [
              0.6666666666666666,
              "#ed7953"
             ],
             [
              0.7777777777777778,
              "#fb9f3a"
             ],
             [
              0.8888888888888888,
              "#fdca26"
             ],
             [
              1,
              "#f0f921"
             ]
            ],
            "type": "contour"
           }
          ],
          "contourcarpet": [
           {
            "colorbar": {
             "outlinewidth": 0,
             "ticks": ""
            },
            "type": "contourcarpet"
           }
          ],
          "heatmap": [
           {
            "colorbar": {
             "outlinewidth": 0,
             "ticks": ""
            },
            "colorscale": [
             [
              0,
              "#0d0887"
             ],
             [
              0.1111111111111111,
              "#46039f"
             ],
             [
              0.2222222222222222,
              "#7201a8"
             ],
             [
              0.3333333333333333,
              "#9c179e"
             ],
             [
              0.4444444444444444,
              "#bd3786"
             ],
             [
              0.5555555555555556,
              "#d8576b"
             ],
             [
              0.6666666666666666,
              "#ed7953"
             ],
             [
              0.7777777777777778,
              "#fb9f3a"
             ],
             [
              0.8888888888888888,
              "#fdca26"
             ],
             [
              1,
              "#f0f921"
             ]
            ],
            "type": "heatmap"
           }
          ],
          "heatmapgl": [
           {
            "colorbar": {
             "outlinewidth": 0,
             "ticks": ""
            },
            "colorscale": [
             [
              0,
              "#0d0887"
             ],
             [
              0.1111111111111111,
              "#46039f"
             ],
             [
              0.2222222222222222,
              "#7201a8"
             ],
             [
              0.3333333333333333,
              "#9c179e"
             ],
             [
              0.4444444444444444,
              "#bd3786"
             ],
             [
              0.5555555555555556,
              "#d8576b"
             ],
             [
              0.6666666666666666,
              "#ed7953"
             ],
             [
              0.7777777777777778,
              "#fb9f3a"
             ],
             [
              0.8888888888888888,
              "#fdca26"
             ],
             [
              1,
              "#f0f921"
             ]
            ],
            "type": "heatmapgl"
           }
          ],
          "histogram": [
           {
            "marker": {
             "colorbar": {
              "outlinewidth": 0,
              "ticks": ""
             }
            },
            "type": "histogram"
           }
          ],
          "histogram2d": [
           {
            "colorbar": {
             "outlinewidth": 0,
             "ticks": ""
            },
            "colorscale": [
             [
              0,
              "#0d0887"
             ],
             [
              0.1111111111111111,
              "#46039f"
             ],
             [
              0.2222222222222222,
              "#7201a8"
             ],
             [
              0.3333333333333333,
              "#9c179e"
             ],
             [
              0.4444444444444444,
              "#bd3786"
             ],
             [
              0.5555555555555556,
              "#d8576b"
             ],
             [
              0.6666666666666666,
              "#ed7953"
             ],
             [
              0.7777777777777778,
              "#fb9f3a"
             ],
             [
              0.8888888888888888,
              "#fdca26"
             ],
             [
              1,
              "#f0f921"
             ]
            ],
            "type": "histogram2d"
           }
          ],
          "histogram2dcontour": [
           {
            "colorbar": {
             "outlinewidth": 0,
             "ticks": ""
            },
            "colorscale": [
             [
              0,
              "#0d0887"
             ],
             [
              0.1111111111111111,
              "#46039f"
             ],
             [
              0.2222222222222222,
              "#7201a8"
             ],
             [
              0.3333333333333333,
              "#9c179e"
             ],
             [
              0.4444444444444444,
              "#bd3786"
             ],
             [
              0.5555555555555556,
              "#d8576b"
             ],
             [
              0.6666666666666666,
              "#ed7953"
             ],
             [
              0.7777777777777778,
              "#fb9f3a"
             ],
             [
              0.8888888888888888,
              "#fdca26"
             ],
             [
              1,
              "#f0f921"
             ]
            ],
            "type": "histogram2dcontour"
           }
          ],
          "mesh3d": [
           {
            "colorbar": {
             "outlinewidth": 0,
             "ticks": ""
            },
            "type": "mesh3d"
           }
          ],
          "parcoords": [
           {
            "line": {
             "colorbar": {
              "outlinewidth": 0,
              "ticks": ""
             }
            },
            "type": "parcoords"
           }
          ],
          "pie": [
           {
            "automargin": true,
            "type": "pie"
           }
          ],
          "scatter": [
           {
            "marker": {
             "colorbar": {
              "outlinewidth": 0,
              "ticks": ""
             }
            },
            "type": "scatter"
           }
          ],
          "scatter3d": [
           {
            "line": {
             "colorbar": {
              "outlinewidth": 0,
              "ticks": ""
             }
            },
            "marker": {
             "colorbar": {
              "outlinewidth": 0,
              "ticks": ""
             }
            },
            "type": "scatter3d"
           }
          ],
          "scattercarpet": [
           {
            "marker": {
             "colorbar": {
              "outlinewidth": 0,
              "ticks": ""
             }
            },
            "type": "scattercarpet"
           }
          ],
          "scattergeo": [
           {
            "marker": {
             "colorbar": {
              "outlinewidth": 0,
              "ticks": ""
             }
            },
            "type": "scattergeo"
           }
          ],
          "scattergl": [
           {
            "marker": {
             "colorbar": {
              "outlinewidth": 0,
              "ticks": ""
             }
            },
            "type": "scattergl"
           }
          ],
          "scattermapbox": [
           {
            "marker": {
             "colorbar": {
              "outlinewidth": 0,
              "ticks": ""
             }
            },
            "type": "scattermapbox"
           }
          ],
          "scatterpolar": [
           {
            "marker": {
             "colorbar": {
              "outlinewidth": 0,
              "ticks": ""
             }
            },
            "type": "scatterpolar"
           }
          ],
          "scatterpolargl": [
           {
            "marker": {
             "colorbar": {
              "outlinewidth": 0,
              "ticks": ""
             }
            },
            "type": "scatterpolargl"
           }
          ],
          "scatterternary": [
           {
            "marker": {
             "colorbar": {
              "outlinewidth": 0,
              "ticks": ""
             }
            },
            "type": "scatterternary"
           }
          ],
          "surface": [
           {
            "colorbar": {
             "outlinewidth": 0,
             "ticks": ""
            },
            "colorscale": [
             [
              0,
              "#0d0887"
             ],
             [
              0.1111111111111111,
              "#46039f"
             ],
             [
              0.2222222222222222,
              "#7201a8"
             ],
             [
              0.3333333333333333,
              "#9c179e"
             ],
             [
              0.4444444444444444,
              "#bd3786"
             ],
             [
              0.5555555555555556,
              "#d8576b"
             ],
             [
              0.6666666666666666,
              "#ed7953"
             ],
             [
              0.7777777777777778,
              "#fb9f3a"
             ],
             [
              0.8888888888888888,
              "#fdca26"
             ],
             [
              1,
              "#f0f921"
             ]
            ],
            "type": "surface"
           }
          ],
          "table": [
           {
            "cells": {
             "fill": {
              "color": "#EBF0F8"
             },
             "line": {
              "color": "white"
             }
            },
            "header": {
             "fill": {
              "color": "#C8D4E3"
             },
             "line": {
              "color": "white"
             }
            },
            "type": "table"
           }
          ]
         },
         "layout": {
          "annotationdefaults": {
           "arrowcolor": "#2a3f5f",
           "arrowhead": 0,
           "arrowwidth": 1
          },
          "coloraxis": {
           "colorbar": {
            "outlinewidth": 0,
            "ticks": ""
           }
          },
          "colorscale": {
           "diverging": [
            [
             0,
             "#8e0152"
            ],
            [
             0.1,
             "#c51b7d"
            ],
            [
             0.2,
             "#de77ae"
            ],
            [
             0.3,
             "#f1b6da"
            ],
            [
             0.4,
             "#fde0ef"
            ],
            [
             0.5,
             "#f7f7f7"
            ],
            [
             0.6,
             "#e6f5d0"
            ],
            [
             0.7,
             "#b8e186"
            ],
            [
             0.8,
             "#7fbc41"
            ],
            [
             0.9,
             "#4d9221"
            ],
            [
             1,
             "#276419"
            ]
           ],
           "sequential": [
            [
             0,
             "#0d0887"
            ],
            [
             0.1111111111111111,
             "#46039f"
            ],
            [
             0.2222222222222222,
             "#7201a8"
            ],
            [
             0.3333333333333333,
             "#9c179e"
            ],
            [
             0.4444444444444444,
             "#bd3786"
            ],
            [
             0.5555555555555556,
             "#d8576b"
            ],
            [
             0.6666666666666666,
             "#ed7953"
            ],
            [
             0.7777777777777778,
             "#fb9f3a"
            ],
            [
             0.8888888888888888,
             "#fdca26"
            ],
            [
             1,
             "#f0f921"
            ]
           ],
           "sequentialminus": [
            [
             0,
             "#0d0887"
            ],
            [
             0.1111111111111111,
             "#46039f"
            ],
            [
             0.2222222222222222,
             "#7201a8"
            ],
            [
             0.3333333333333333,
             "#9c179e"
            ],
            [
             0.4444444444444444,
             "#bd3786"
            ],
            [
             0.5555555555555556,
             "#d8576b"
            ],
            [
             0.6666666666666666,
             "#ed7953"
            ],
            [
             0.7777777777777778,
             "#fb9f3a"
            ],
            [
             0.8888888888888888,
             "#fdca26"
            ],
            [
             1,
             "#f0f921"
            ]
           ]
          },
          "colorway": [
           "#636efa",
           "#EF553B",
           "#00cc96",
           "#ab63fa",
           "#FFA15A",
           "#19d3f3",
           "#FF6692",
           "#B6E880",
           "#FF97FF",
           "#FECB52"
          ],
          "font": {
           "color": "#2a3f5f"
          },
          "geo": {
           "bgcolor": "white",
           "lakecolor": "white",
           "landcolor": "#E5ECF6",
           "showlakes": true,
           "showland": true,
           "subunitcolor": "white"
          },
          "hoverlabel": {
           "align": "left"
          },
          "hovermode": "closest",
          "mapbox": {
           "style": "light"
          },
          "paper_bgcolor": "white",
          "plot_bgcolor": "#E5ECF6",
          "polar": {
           "angularaxis": {
            "gridcolor": "white",
            "linecolor": "white",
            "ticks": ""
           },
           "bgcolor": "#E5ECF6",
           "radialaxis": {
            "gridcolor": "white",
            "linecolor": "white",
            "ticks": ""
           }
          },
          "scene": {
           "xaxis": {
            "backgroundcolor": "#E5ECF6",
            "gridcolor": "white",
            "gridwidth": 2,
            "linecolor": "white",
            "showbackground": true,
            "ticks": "",
            "zerolinecolor": "white"
           },
           "yaxis": {
            "backgroundcolor": "#E5ECF6",
            "gridcolor": "white",
            "gridwidth": 2,
            "linecolor": "white",
            "showbackground": true,
            "ticks": "",
            "zerolinecolor": "white"
           },
           "zaxis": {
            "backgroundcolor": "#E5ECF6",
            "gridcolor": "white",
            "gridwidth": 2,
            "linecolor": "white",
            "showbackground": true,
            "ticks": "",
            "zerolinecolor": "white"
           }
          },
          "shapedefaults": {
           "line": {
            "color": "#2a3f5f"
           }
          },
          "ternary": {
           "aaxis": {
            "gridcolor": "white",
            "linecolor": "white",
            "ticks": ""
           },
           "baxis": {
            "gridcolor": "white",
            "linecolor": "white",
            "ticks": ""
           },
           "bgcolor": "#E5ECF6",
           "caxis": {
            "gridcolor": "white",
            "linecolor": "white",
            "ticks": ""
           }
          },
          "title": {
           "x": 0.05
          },
          "xaxis": {
           "automargin": true,
           "gridcolor": "white",
           "linecolor": "white",
           "ticks": "",
           "title": {
            "standoff": 15
           },
           "zerolinecolor": "white",
           "zerolinewidth": 2
          },
          "yaxis": {
           "automargin": true,
           "gridcolor": "white",
           "linecolor": "white",
           "ticks": "",
           "title": {
            "standoff": 15
           },
           "zerolinecolor": "white",
           "zerolinewidth": 2
          }
         }
        },
        "title": {
         "text": "CPB From November 21, 2018 to November 21, 2019",
         "x": 0.5,
         "xanchor": "center",
         "y": 0.9,
         "yanchor": "top"
        },
        "xaxis": {
         "rangeslider": {
          "visible": true
         },
         "title": {
          "text": "Time"
         }
        },
        "yaxis": {
         "title": {
          "text": "Growth Rate Percentage"
         }
        }
       }
      },
      "text/html": [
       "<div>\n",
       "        \n",
       "        \n",
       "            <div id=\"b6e669fc-a88d-4d1c-b6c1-42211e03a326\" class=\"plotly-graph-div\" style=\"height:525px; width:100%;\"></div>\n",
       "            <script type=\"text/javascript\">\n",
       "                require([\"plotly\"], function(Plotly) {\n",
       "                    window.PLOTLYENV=window.PLOTLYENV || {};\n",
       "                    \n",
       "                if (document.getElementById(\"b6e669fc-a88d-4d1c-b6c1-42211e03a326\")) {\n",
       "                    Plotly.newPlot(\n",
       "                        'b6e669fc-a88d-4d1c-b6c1-42211e03a326',\n",
       "                        [{\"close\": [39.52, 40.529999, 39.02, 39.509997999999996, 39.5, 39.630001, 39.200001, 38.759997999999996, 38.59, 38.220001, 37.77, 37.720001, 38.82, 38.860001000000004, 39.400002, 39.16, 38.830002, 38.490002000000004, 38.650002, 37.669998, 35.75, 33.419998, 34.25, 33.5, 33.439999, 32.990002000000004, 32.259997999999996, 32.66, 32.84, 33.689999, 33.59, 34.18, 34.48, 35.040001000000004, 35.040001000000004, 35.529999, 35.279999, 35.779999, 35.490002000000004, 35.389998999999996, 35.380001, 34.720001, 34.240002000000004, 34.610001000000004, 34.490002000000004, 34.889998999999996, 35.43, 35.009997999999996, 35.009997999999996, 34.959998999999996, 34.189999, 34.200001, 34.290001000000004, 34.16, 34.560001, 34.66, 34.450001, 34.790001000000004, 35.009997999999996, 35.18, 35.439999, 32.830002, 32.259997999999996, 32.91, 36.209998999999996, 36.02, 36.349998, 36.0, 36.099998, 36.139998999999996, 35.919998, 36.02, 35.900002, 35.049999, 35.27, 35.639998999999996, 36.009997999999996, 36.560001, 36.299999, 36.32, 37.860001000000004, 38.240002000000004, 38.279999, 38.52, 37.950001, 38.299999, 38.130001, 37.849998, 37.619999, 37.25, 37.450001, 38.259997999999996, 38.529999, 39.490002000000004, 39.130001, 39.66, 39.810001, 39.84, 39.43, 39.130001, 39.389998999999996, 39.32, 38.900002, 39.0, 38.18, 38.639998999999996, 38.34, 38.689999, 38.32, 37.91, 38.27, 38.209998999999996, 38.23, 38.59, 38.959998999999996, 38.740002000000004, 38.720001, 38.669998, 38.98, 38.93, 39.130001, 38.75, 38.419998, 37.860001000000004, 38.110001000000004, 37.529999, 36.779999, 36.220001, 35.799999, 36.310001, 37.369999, 38.110001000000004, 41.93, 43.009997999999996, 43.080002, 42.009997999999996, 42.529999, 42.43, 42.639998999999996, 42.259997999999996, 41.369999, 40.860001000000004, 41.259997999999996, 41.029999, 40.689999, 40.529999, 41.040001000000004, 40.459998999999996, 39.75, 40.07, 40.119999, 40.639998999999996, 41.669998, 41.57, 41.5, 41.459998999999996, 41.400002, 40.869999, 40.919998, 41.119999, 41.290001000000004, 41.349998, 41.68, 41.27, 41.139998999999996, 41.470001, 40.52, 40.400002, 40.959998999999996, 41.34, 41.66, 41.34, 42.110001000000004, 42.34, 41.209998999999996, 41.259997999999996, 41.57, 42.029999, 41.790001000000004, 42.110001000000004, 42.259997999999996, 41.459998999999996, 42.16, 42.639998999999996, 43.189999, 43.080002, 43.27, 43.68, 42.68, 42.66, 42.049999, 41.970001, 43.310001, 45.0, 45.43, 45.07, 44.619999, 44.98, 44.59, 45.889998999999996, 46.66, 47.150002, 46.279999, 46.740002000000004, 46.689999, 46.580002, 46.610001000000004, 46.759997999999996, 46.66, 46.150002, 46.560001, 46.700001, 46.869999, 46.919998, 46.82, 46.16, 46.77, 47.34, 47.0, 46.77, 46.830002, 47.32, 46.869999, 46.830002, 46.610001000000004, 47.169998, 47.959998999999996, 47.560001, 47.889998999999996, 47.669998, 47.799999, 47.080002, 46.459998999999996, 46.560001, 46.490002000000004, 46.27, 46.310001, 46.540001000000004, 46.34, 46.490002000000004, 46.599998, 46.419998, 46.25, 46.07, 46.380001, 47.369999, 47.07, 47.279999, 48.040001000000004, 48.16, 48.279999, 46.84], \"high\": [40.549999, 40.689999, 40.529999, 39.529999, 39.700001, 39.849998, 39.52, 39.23, 39.52, 38.799999, 38.099998, 37.900002, 38.950001, 39.369999, 39.580002, 39.509997999999996, 39.59, 39.380001, 39.43, 38.580002, 38.23, 35.759997999999996, 34.310001, 34.139998999999996, 34.18, 33.549999, 32.880001, 33.080002, 33.110001000000004, 33.900002, 33.75, 34.490002000000004, 34.59, 35.130001, 35.290001000000004, 35.599998, 35.759997999999996, 35.950001, 35.810001, 35.41, 35.599998, 35.169998, 35.150002, 34.700001, 34.799999, 35.110001000000004, 35.470001, 35.560001, 35.290001000000004, 35.299999, 35.16, 34.380001, 34.400002, 34.650002, 34.869999, 34.810001, 34.66, 35.110001000000004, 35.32, 35.5, 35.560001, 34.029999, 33.09, 33.349998, 36.490002000000004, 36.43, 36.5, 36.5, 36.200001, 36.240002000000004, 36.290001000000004, 36.049999, 36.09, 35.939999, 35.57, 35.799999, 36.16, 36.669998, 36.73, 36.709998999999996, 37.93, 38.369999, 38.34, 38.84, 38.549999, 38.529999, 38.450001, 38.09, 38.080002, 37.669998, 37.549999, 38.290001000000004, 38.790001000000004, 39.810001, 39.57, 39.869999, 39.959998999999996, 40.220001, 39.98, 39.700001, 39.599998, 39.580002, 39.5, 39.490002000000004, 38.869999, 38.66, 38.73, 38.720001, 38.779999, 38.02, 38.330002, 38.419998, 38.310001, 38.860001000000004, 38.990002000000004, 38.990002000000004, 39.16, 38.849998, 39.09, 39.439999, 39.389998999999996, 39.259997999999996, 39.009997999999996, 38.240002000000004, 38.209998999999996, 38.189999, 37.759997999999996, 36.709998999999996, 36.610001000000004, 36.439999, 37.419998, 38.68, 42.0, 43.220001, 43.66, 43.110001000000004, 42.540001000000004, 43.060001, 42.720001, 42.740002000000004, 42.220001, 41.639998999999996, 41.380001, 41.459998999999996, 41.259997999999996, 41.09, 41.130001, 40.919998, 40.130001, 40.259997999999996, 40.580002, 40.68, 41.779999, 41.66, 41.650002, 41.610001000000004, 41.669998, 41.23, 41.049999, 41.27, 41.41, 41.490002000000004, 41.77, 41.799999, 41.41, 41.639998999999996, 41.330002, 40.66, 41.07, 41.419998, 41.790001000000004, 41.75, 42.470001, 42.720001, 42.290001000000004, 41.43, 41.73, 42.130001, 42.700001, 42.299999, 42.57, 42.240002000000004, 42.349998, 42.720001, 43.369999, 43.43, 43.759997999999996, 43.84, 43.700001, 43.110001000000004, 42.66, 42.080002, 43.52, 48.029999, 45.5, 46.200001, 45.130001, 45.200001, 45.080002, 45.939999, 46.66, 47.459998999999996, 47.349998, 46.779999, 47.119999, 46.939999, 46.73, 47.25, 47.040001000000004, 46.939999, 46.889998999999996, 46.939999, 46.98, 47.27, 47.200001, 46.799999, 46.939999, 47.419998, 47.380001, 47.220001, 46.84, 47.380001, 47.470001, 47.02, 46.830002, 47.200001, 48.380001, 48.23, 48.200001, 48.0, 48.07, 47.740002000000004, 47.18, 46.57, 47.02, 46.810001, 46.779999, 46.860001000000004, 46.619999, 46.799999, 47.060001, 47.130001, 46.400002, 46.25, 46.419998, 47.41, 47.560001, 47.360001000000004, 48.119999, 48.209998999999996, 48.389998999999996, 48.200001], \"low\": [39.34, 39.529999, 38.790001000000004, 38.889998999999996, 39.09, 39.299999, 38.709998999999996, 38.380001, 38.470001, 37.529999, 37.490002000000004, 36.91, 37.77, 38.669998, 38.700001, 38.959998999999996, 38.57, 38.299999, 38.459998999999996, 37.07, 35.75, 33.119999, 32.209998999999996, 32.389998999999996, 33.25, 32.549999, 32.029999, 32.09, 32.380001, 32.43, 33.080002, 33.419998, 33.75, 34.279999, 34.650002, 34.799999, 35.16, 35.139998999999996, 35.32, 34.700001, 34.830002, 34.259997999999996, 34.189999, 34.09, 34.259997999999996, 34.279999, 34.759997999999996, 34.889998999999996, 34.73, 34.650002, 34.169998, 33.450001, 34.060001, 33.849998, 34.080002, 34.470001, 34.200001, 34.66, 34.630001, 34.860001000000004, 34.919998, 32.259997999999996, 32.169998, 32.669998, 33.16, 35.23, 35.580002, 35.380001, 35.73, 35.849998, 35.73, 35.599998, 35.549999, 35.029999, 35.029999, 35.279999, 35.59, 36.040001000000004, 36.150002, 36.279999, 36.189999, 37.709998999999996, 37.869999, 38.220001, 37.740002000000004, 37.93, 37.77, 37.52, 37.490002000000004, 37.18, 37.27, 37.52, 38.119999, 38.459998999999996, 38.91, 39.189999, 39.470001, 39.540001000000004, 39.380001, 39.080002, 39.099998, 39.16, 38.779999, 38.75, 38.119999, 38.09, 38.240002000000004, 38.139998999999996, 38.110001000000004, 37.59, 37.650002, 37.900002, 37.619999, 38.040001000000004, 38.27, 38.16, 38.529999, 38.279999, 38.389998999999996, 38.860001000000004, 38.75, 38.689999, 38.220001, 37.77, 37.549999, 37.509997999999996, 36.639998999999996, 36.02, 35.75, 35.27, 36.220001, 37.419998, 39.900002, 41.66, 42.669998, 41.580002, 41.720001, 42.27, 42.119999, 42.150002, 40.889998999999996, 40.610001000000004, 40.700001, 40.599998, 40.599998, 40.419998, 40.5, 40.049999, 39.240002000000004, 39.77, 39.779999, 39.990002000000004, 40.810001, 40.810001, 41.290001000000004, 41.18, 41.32, 40.389998999999996, 40.759997999999996, 40.709998999999996, 41.09, 41.080002, 41.27, 41.23, 40.950001, 41.060001, 40.380001, 40.029999, 40.18, 40.810001, 41.169998, 40.82, 41.529999, 41.860001000000004, 40.82, 40.689999, 40.610001000000004, 41.150002, 41.650002, 41.619999, 41.790001000000004, 41.380001, 41.259997999999996, 42.189999, 42.470001, 42.810001, 42.869999, 43.27, 42.400002, 42.41, 41.669998, 41.560001, 41.889998999999996, 44.75, 44.139998999999996, 45.049999, 44.27, 44.529999, 44.110001000000004, 44.299999, 45.639998999999996, 46.889998999999996, 46.009997999999996, 45.82, 46.439999, 46.119999, 46.18, 46.490002000000004, 46.66, 46.130001, 46.23, 46.419998, 46.41, 46.790001000000004, 46.66, 46.119999, 45.950001, 46.779999, 46.799999, 46.66, 46.380001, 46.529999, 46.82, 46.549999, 45.77, 46.529999, 47.349998, 47.540001000000004, 47.560001, 47.450001, 47.450001, 46.73, 46.27, 46.07, 46.349998, 46.029999, 46.009997999999996, 46.189999, 46.07, 46.25, 46.529999, 46.18, 45.91, 45.849998, 46.099998, 46.27, 46.889998999999996, 46.540001000000004, 47.07, 47.880001, 47.91, 46.84], \"open\": [40.43, 39.619999, 40.529999, 39.049999, 39.5, 39.419998, 39.48, 39.189999, 38.950001, 38.720001, 38.099998, 37.900002, 37.77, 38.799999, 38.720001, 39.25, 39.099998, 38.869999, 38.880001, 38.43, 37.709998999999996, 35.689999, 33.610001000000004, 34.139998999999996, 33.599998, 33.459998999999996, 32.759997999999996, 32.220001, 32.619999, 32.73, 33.34, 33.580002, 33.959998999999996, 34.57, 34.849998, 34.939999, 35.360001000000004, 35.310001, 35.650002, 35.299999, 35.450001, 34.810001, 34.860001000000004, 34.169998, 34.599998, 34.48, 34.919998, 35.560001, 35.02, 35.009997999999996, 35.0, 33.68, 34.060001, 34.349998, 34.220001, 34.610001000000004, 34.5, 34.73, 34.830002, 34.98, 35.16, 33.77, 32.959998999999996, 32.849998, 34.049999, 36.209998999999996, 36.0, 36.380001, 36.0, 36.099998, 36.16, 35.98, 35.93, 35.919998, 35.099998, 35.369999, 35.639998999999996, 36.060001, 36.52, 36.389998999999996, 36.52, 37.740002000000004, 38.200001, 38.389998999999996, 38.369999, 38.02, 38.330002, 38.040001000000004, 37.91, 37.619999, 37.360001000000004, 37.52, 38.189999, 38.459998999999996, 39.189999, 39.259997999999996, 39.540001000000004, 39.540001000000004, 39.84, 39.59, 39.209998999999996, 39.419998, 39.27, 39.040001000000004, 38.869999, 38.240002000000004, 38.630001, 38.360001000000004, 38.740002000000004, 37.93, 37.919998, 38.189999, 38.119999, 38.290001000000004, 38.380001, 38.810001, 38.610001000000004, 38.720001, 38.66, 39.110001000000004, 38.77, 39.130001, 38.919998, 38.240002000000004, 37.720001, 38.189999, 37.48, 36.41, 36.27, 35.68, 36.220001, 37.419998, 40.310001, 41.73, 43.189999, 43.080002, 41.950001, 42.68, 42.419998, 42.740002000000004, 42.220001, 41.52, 40.759997999999996, 41.279999, 41.060001, 40.889998999999996, 40.5, 40.5, 40.07, 39.880001, 40.439999, 40.27, 40.849998, 41.470001, 41.580002, 41.57, 41.5, 41.23, 40.91, 40.950001, 41.169998, 41.380001, 41.529999, 41.650002, 41.279999, 41.290001000000004, 41.330002, 40.330002, 40.580002, 41.02, 41.369999, 41.650002, 41.529999, 42.25, 42.099998, 41.18, 41.169998, 41.209998999999996, 42.150002, 41.75, 42.060001, 42.23, 41.470001, 42.41, 42.66, 43.43, 43.290001000000004, 43.27, 43.68, 42.830002, 42.599998, 41.98, 42.23, 44.919998, 44.810001, 45.700001, 45.130001, 44.779999, 45.07, 44.43, 45.889998999999996, 46.900002, 46.889998999999996, 46.07, 46.57, 46.709998999999996, 46.59, 46.490002000000004, 46.91, 46.849998, 46.259997999999996, 46.91, 46.73, 46.849998, 47.0, 46.639998999999996, 46.290001000000004, 46.939999, 47.060001, 47.009997999999996, 46.59, 46.59, 47.32, 46.880001, 46.830002, 46.610001000000004, 47.5, 47.900002, 47.560001, 48.0, 47.709998999999996, 47.630001, 47.18, 46.41, 46.759997999999996, 46.630001, 46.349998, 46.27, 46.439999, 46.27, 46.59, 46.959998999999996, 46.380001, 46.240002000000004, 46.189999, 46.509997999999996, 47.459998999999996, 46.93, 47.16, 48.0, 48.23, 48.029999], \"type\": \"ohlc\", \"x\": [\"2018-11-21\", \"2018-11-23\", \"2018-11-26\", \"2018-11-27\", \"2018-11-28\", \"2018-11-29\", \"2018-11-30\", \"2018-12-03\", \"2018-12-04\", \"2018-12-06\", \"2018-12-07\", \"2018-12-10\", \"2018-12-11\", \"2018-12-12\", \"2018-12-13\", \"2018-12-14\", \"2018-12-17\", \"2018-12-18\", \"2018-12-19\", \"2018-12-20\", \"2018-12-21\", \"2018-12-24\", \"2018-12-26\", \"2018-12-27\", \"2018-12-28\", \"2018-12-31\", \"2019-01-02\", \"2019-01-03\", \"2019-01-04\", \"2019-01-07\", \"2019-01-08\", \"2019-01-09\", \"2019-01-10\", \"2019-01-11\", \"2019-01-14\", \"2019-01-15\", \"2019-01-16\", \"2019-01-17\", \"2019-01-18\", \"2019-01-22\", \"2019-01-23\", \"2019-01-24\", \"2019-01-25\", \"2019-01-28\", \"2019-01-29\", \"2019-01-30\", \"2019-01-31\", \"2019-02-01\", \"2019-02-04\", \"2019-02-05\", \"2019-02-06\", \"2019-02-07\", \"2019-02-08\", \"2019-02-11\", \"2019-02-12\", \"2019-02-13\", \"2019-02-14\", \"2019-02-15\", \"2019-02-19\", \"2019-02-20\", \"2019-02-21\", \"2019-02-22\", \"2019-02-25\", \"2019-02-26\", \"2019-02-27\", \"2019-02-28\", \"2019-03-01\", \"2019-03-04\", \"2019-03-05\", \"2019-03-06\", \"2019-03-07\", \"2019-03-08\", \"2019-03-11\", \"2019-03-12\", \"2019-03-13\", \"2019-03-14\", \"2019-03-15\", \"2019-03-18\", \"2019-03-19\", \"2019-03-20\", \"2019-03-21\", \"2019-03-22\", \"2019-03-25\", \"2019-03-26\", \"2019-03-27\", \"2019-03-28\", \"2019-03-29\", \"2019-04-01\", \"2019-04-02\", \"2019-04-03\", \"2019-04-04\", \"2019-04-05\", \"2019-04-08\", \"2019-04-09\", \"2019-04-10\", \"2019-04-11\", \"2019-04-12\", \"2019-04-15\", \"2019-04-16\", \"2019-04-17\", \"2019-04-18\", \"2019-04-22\", \"2019-04-23\", \"2019-04-24\", \"2019-04-25\", \"2019-04-26\", \"2019-04-29\", \"2019-04-30\", \"2019-05-01\", \"2019-05-02\", \"2019-05-03\", \"2019-05-06\", \"2019-05-07\", \"2019-05-08\", \"2019-05-09\", \"2019-05-10\", \"2019-05-13\", \"2019-05-14\", \"2019-05-15\", \"2019-05-16\", \"2019-05-17\", \"2019-05-20\", \"2019-05-21\", \"2019-05-22\", \"2019-05-23\", \"2019-05-24\", \"2019-05-28\", \"2019-05-29\", \"2019-05-30\", \"2019-05-31\", \"2019-06-03\", \"2019-06-04\", \"2019-06-05\", \"2019-06-06\", \"2019-06-07\", \"2019-06-10\", \"2019-06-11\", \"2019-06-12\", \"2019-06-13\", \"2019-06-14\", \"2019-06-17\", \"2019-06-18\", \"2019-06-19\", \"2019-06-20\", \"2019-06-21\", \"2019-06-24\", \"2019-06-25\", \"2019-06-26\", \"2019-06-27\", \"2019-06-28\", \"2019-07-01\", \"2019-07-02\", \"2019-07-03\", \"2019-07-05\", \"2019-07-08\", \"2019-07-09\", \"2019-07-10\", \"2019-07-11\", \"2019-07-12\", \"2019-07-15\", \"2019-07-16\", \"2019-07-17\", \"2019-07-18\", \"2019-07-19\", \"2019-07-22\", \"2019-07-23\", \"2019-07-24\", \"2019-07-25\", \"2019-07-26\", \"2019-07-29\", \"2019-07-30\", \"2019-07-31\", \"2019-08-01\", \"2019-08-02\", \"2019-08-05\", \"2019-08-06\", \"2019-08-07\", \"2019-08-08\", \"2019-08-09\", \"2019-08-12\", \"2019-08-13\", \"2019-08-14\", \"2019-08-15\", \"2019-08-16\", \"2019-08-19\", \"2019-08-20\", \"2019-08-21\", \"2019-08-22\", \"2019-08-23\", \"2019-08-26\", \"2019-08-27\", \"2019-08-28\", \"2019-08-29\", \"2019-08-30\", \"2019-09-03\", \"2019-09-04\", \"2019-09-05\", \"2019-09-06\", \"2019-09-09\", \"2019-09-10\", \"2019-09-11\", \"2019-09-12\", \"2019-09-13\", \"2019-09-16\", \"2019-09-17\", \"2019-09-18\", \"2019-09-19\", \"2019-09-20\", \"2019-09-23\", \"2019-09-24\", \"2019-09-25\", \"2019-09-26\", \"2019-09-27\", \"2019-09-30\", \"2019-10-01\", \"2019-10-02\", \"2019-10-03\", \"2019-10-04\", \"2019-10-07\", \"2019-10-08\", \"2019-10-09\", \"2019-10-10\", \"2019-10-11\", \"2019-10-14\", \"2019-10-15\", \"2019-10-16\", \"2019-10-17\", \"2019-10-18\", \"2019-10-21\", \"2019-10-22\", \"2019-10-23\", \"2019-10-24\", \"2019-10-25\", \"2019-10-28\", \"2019-10-29\", \"2019-10-30\", \"2019-10-31\", \"2019-11-01\", \"2019-11-04\", \"2019-11-05\", \"2019-11-06\", \"2019-11-07\", \"2019-11-08\", \"2019-11-11\", \"2019-11-12\", \"2019-11-13\", \"2019-11-14\", \"2019-11-15\", \"2019-11-18\", \"2019-11-19\", \"2019-11-20\", \"2019-11-21\"]}],\n",
       "                        {\"template\": {\"data\": {\"bar\": [{\"error_x\": {\"color\": \"#2a3f5f\"}, \"error_y\": {\"color\": \"#2a3f5f\"}, \"marker\": {\"line\": {\"color\": \"#E5ECF6\", \"width\": 0.5}}, \"type\": \"bar\"}], \"barpolar\": [{\"marker\": {\"line\": {\"color\": \"#E5ECF6\", \"width\": 0.5}}, \"type\": \"barpolar\"}], \"carpet\": [{\"aaxis\": {\"endlinecolor\": \"#2a3f5f\", \"gridcolor\": \"white\", \"linecolor\": \"white\", \"minorgridcolor\": \"white\", \"startlinecolor\": \"#2a3f5f\"}, \"baxis\": {\"endlinecolor\": \"#2a3f5f\", \"gridcolor\": \"white\", \"linecolor\": \"white\", \"minorgridcolor\": \"white\", \"startlinecolor\": \"#2a3f5f\"}, \"type\": \"carpet\"}], \"choropleth\": [{\"colorbar\": {\"outlinewidth\": 0, \"ticks\": \"\"}, \"type\": \"choropleth\"}], \"contour\": [{\"colorbar\": {\"outlinewidth\": 0, \"ticks\": \"\"}, \"colorscale\": [[0.0, \"#0d0887\"], [0.1111111111111111, \"#46039f\"], [0.2222222222222222, \"#7201a8\"], [0.3333333333333333, \"#9c179e\"], [0.4444444444444444, \"#bd3786\"], [0.5555555555555556, \"#d8576b\"], [0.6666666666666666, \"#ed7953\"], [0.7777777777777778, \"#fb9f3a\"], [0.8888888888888888, \"#fdca26\"], [1.0, \"#f0f921\"]], \"type\": \"contour\"}], \"contourcarpet\": [{\"colorbar\": {\"outlinewidth\": 0, \"ticks\": \"\"}, \"type\": \"contourcarpet\"}], \"heatmap\": [{\"colorbar\": {\"outlinewidth\": 0, \"ticks\": \"\"}, \"colorscale\": [[0.0, \"#0d0887\"], [0.1111111111111111, \"#46039f\"], [0.2222222222222222, \"#7201a8\"], [0.3333333333333333, \"#9c179e\"], [0.4444444444444444, \"#bd3786\"], [0.5555555555555556, \"#d8576b\"], [0.6666666666666666, \"#ed7953\"], [0.7777777777777778, \"#fb9f3a\"], [0.8888888888888888, \"#fdca26\"], [1.0, \"#f0f921\"]], \"type\": \"heatmap\"}], \"heatmapgl\": [{\"colorbar\": {\"outlinewidth\": 0, \"ticks\": \"\"}, \"colorscale\": [[0.0, \"#0d0887\"], [0.1111111111111111, \"#46039f\"], [0.2222222222222222, \"#7201a8\"], [0.3333333333333333, \"#9c179e\"], [0.4444444444444444, \"#bd3786\"], [0.5555555555555556, \"#d8576b\"], [0.6666666666666666, \"#ed7953\"], [0.7777777777777778, \"#fb9f3a\"], [0.8888888888888888, \"#fdca26\"], [1.0, \"#f0f921\"]], \"type\": \"heatmapgl\"}], \"histogram\": [{\"marker\": {\"colorbar\": {\"outlinewidth\": 0, \"ticks\": \"\"}}, \"type\": \"histogram\"}], \"histogram2d\": [{\"colorbar\": {\"outlinewidth\": 0, \"ticks\": \"\"}, \"colorscale\": [[0.0, \"#0d0887\"], [0.1111111111111111, \"#46039f\"], [0.2222222222222222, \"#7201a8\"], [0.3333333333333333, \"#9c179e\"], [0.4444444444444444, \"#bd3786\"], [0.5555555555555556, \"#d8576b\"], [0.6666666666666666, \"#ed7953\"], [0.7777777777777778, \"#fb9f3a\"], [0.8888888888888888, \"#fdca26\"], [1.0, \"#f0f921\"]], \"type\": \"histogram2d\"}], \"histogram2dcontour\": [{\"colorbar\": {\"outlinewidth\": 0, \"ticks\": \"\"}, \"colorscale\": [[0.0, \"#0d0887\"], [0.1111111111111111, \"#46039f\"], [0.2222222222222222, \"#7201a8\"], [0.3333333333333333, \"#9c179e\"], [0.4444444444444444, \"#bd3786\"], [0.5555555555555556, \"#d8576b\"], [0.6666666666666666, \"#ed7953\"], [0.7777777777777778, \"#fb9f3a\"], [0.8888888888888888, \"#fdca26\"], [1.0, \"#f0f921\"]], \"type\": \"histogram2dcontour\"}], \"mesh3d\": [{\"colorbar\": {\"outlinewidth\": 0, \"ticks\": \"\"}, \"type\": \"mesh3d\"}], \"parcoords\": [{\"line\": {\"colorbar\": {\"outlinewidth\": 0, \"ticks\": \"\"}}, \"type\": \"parcoords\"}], \"pie\": [{\"automargin\": true, \"type\": \"pie\"}], \"scatter\": [{\"marker\": {\"colorbar\": {\"outlinewidth\": 0, \"ticks\": \"\"}}, \"type\": \"scatter\"}], \"scatter3d\": [{\"line\": {\"colorbar\": {\"outlinewidth\": 0, \"ticks\": \"\"}}, \"marker\": {\"colorbar\": {\"outlinewidth\": 0, \"ticks\": \"\"}}, \"type\": \"scatter3d\"}], \"scattercarpet\": [{\"marker\": {\"colorbar\": {\"outlinewidth\": 0, \"ticks\": \"\"}}, \"type\": \"scattercarpet\"}], \"scattergeo\": [{\"marker\": {\"colorbar\": {\"outlinewidth\": 0, \"ticks\": \"\"}}, \"type\": \"scattergeo\"}], \"scattergl\": [{\"marker\": {\"colorbar\": {\"outlinewidth\": 0, \"ticks\": \"\"}}, \"type\": \"scattergl\"}], \"scattermapbox\": [{\"marker\": {\"colorbar\": {\"outlinewidth\": 0, \"ticks\": \"\"}}, \"type\": \"scattermapbox\"}], \"scatterpolar\": [{\"marker\": {\"colorbar\": {\"outlinewidth\": 0, \"ticks\": \"\"}}, \"type\": \"scatterpolar\"}], \"scatterpolargl\": [{\"marker\": {\"colorbar\": {\"outlinewidth\": 0, \"ticks\": \"\"}}, \"type\": \"scatterpolargl\"}], \"scatterternary\": [{\"marker\": {\"colorbar\": {\"outlinewidth\": 0, \"ticks\": \"\"}}, \"type\": \"scatterternary\"}], \"surface\": [{\"colorbar\": {\"outlinewidth\": 0, \"ticks\": \"\"}, \"colorscale\": [[0.0, \"#0d0887\"], [0.1111111111111111, \"#46039f\"], [0.2222222222222222, \"#7201a8\"], [0.3333333333333333, \"#9c179e\"], [0.4444444444444444, \"#bd3786\"], [0.5555555555555556, \"#d8576b\"], [0.6666666666666666, \"#ed7953\"], [0.7777777777777778, \"#fb9f3a\"], [0.8888888888888888, \"#fdca26\"], [1.0, \"#f0f921\"]], \"type\": \"surface\"}], \"table\": [{\"cells\": {\"fill\": {\"color\": \"#EBF0F8\"}, \"line\": {\"color\": \"white\"}}, \"header\": {\"fill\": {\"color\": \"#C8D4E3\"}, \"line\": {\"color\": \"white\"}}, \"type\": \"table\"}]}, \"layout\": {\"annotationdefaults\": {\"arrowcolor\": \"#2a3f5f\", \"arrowhead\": 0, \"arrowwidth\": 1}, \"coloraxis\": {\"colorbar\": {\"outlinewidth\": 0, \"ticks\": \"\"}}, \"colorscale\": {\"diverging\": [[0, \"#8e0152\"], [0.1, \"#c51b7d\"], [0.2, \"#de77ae\"], [0.3, \"#f1b6da\"], [0.4, \"#fde0ef\"], [0.5, \"#f7f7f7\"], [0.6, \"#e6f5d0\"], [0.7, \"#b8e186\"], [0.8, \"#7fbc41\"], [0.9, \"#4d9221\"], [1, \"#276419\"]], \"sequential\": [[0.0, \"#0d0887\"], [0.1111111111111111, \"#46039f\"], [0.2222222222222222, \"#7201a8\"], [0.3333333333333333, \"#9c179e\"], [0.4444444444444444, \"#bd3786\"], [0.5555555555555556, \"#d8576b\"], [0.6666666666666666, \"#ed7953\"], [0.7777777777777778, \"#fb9f3a\"], [0.8888888888888888, \"#fdca26\"], [1.0, \"#f0f921\"]], \"sequentialminus\": [[0.0, \"#0d0887\"], [0.1111111111111111, \"#46039f\"], [0.2222222222222222, \"#7201a8\"], [0.3333333333333333, \"#9c179e\"], [0.4444444444444444, \"#bd3786\"], [0.5555555555555556, \"#d8576b\"], [0.6666666666666666, \"#ed7953\"], [0.7777777777777778, \"#fb9f3a\"], [0.8888888888888888, \"#fdca26\"], [1.0, \"#f0f921\"]]}, \"colorway\": [\"#636efa\", \"#EF553B\", \"#00cc96\", \"#ab63fa\", \"#FFA15A\", \"#19d3f3\", \"#FF6692\", \"#B6E880\", \"#FF97FF\", \"#FECB52\"], \"font\": {\"color\": \"#2a3f5f\"}, \"geo\": {\"bgcolor\": \"white\", \"lakecolor\": \"white\", \"landcolor\": \"#E5ECF6\", \"showlakes\": true, \"showland\": true, \"subunitcolor\": \"white\"}, \"hoverlabel\": {\"align\": \"left\"}, \"hovermode\": \"closest\", \"mapbox\": {\"style\": \"light\"}, \"paper_bgcolor\": \"white\", \"plot_bgcolor\": \"#E5ECF6\", \"polar\": {\"angularaxis\": {\"gridcolor\": \"white\", \"linecolor\": \"white\", \"ticks\": \"\"}, \"bgcolor\": \"#E5ECF6\", \"radialaxis\": {\"gridcolor\": \"white\", \"linecolor\": \"white\", \"ticks\": \"\"}}, \"scene\": {\"xaxis\": {\"backgroundcolor\": \"#E5ECF6\", \"gridcolor\": \"white\", \"gridwidth\": 2, \"linecolor\": \"white\", \"showbackground\": true, \"ticks\": \"\", \"zerolinecolor\": \"white\"}, \"yaxis\": {\"backgroundcolor\": \"#E5ECF6\", \"gridcolor\": \"white\", \"gridwidth\": 2, \"linecolor\": \"white\", \"showbackground\": true, \"ticks\": \"\", \"zerolinecolor\": \"white\"}, \"zaxis\": {\"backgroundcolor\": \"#E5ECF6\", \"gridcolor\": \"white\", \"gridwidth\": 2, \"linecolor\": \"white\", \"showbackground\": true, \"ticks\": \"\", \"zerolinecolor\": \"white\"}}, \"shapedefaults\": {\"line\": {\"color\": \"#2a3f5f\"}}, \"ternary\": {\"aaxis\": {\"gridcolor\": \"white\", \"linecolor\": \"white\", \"ticks\": \"\"}, \"baxis\": {\"gridcolor\": \"white\", \"linecolor\": \"white\", \"ticks\": \"\"}, \"bgcolor\": \"#E5ECF6\", \"caxis\": {\"gridcolor\": \"white\", \"linecolor\": \"white\", \"ticks\": \"\"}}, \"title\": {\"x\": 0.05}, \"xaxis\": {\"automargin\": true, \"gridcolor\": \"white\", \"linecolor\": \"white\", \"ticks\": \"\", \"title\": {\"standoff\": 15}, \"zerolinecolor\": \"white\", \"zerolinewidth\": 2}, \"yaxis\": {\"automargin\": true, \"gridcolor\": \"white\", \"linecolor\": \"white\", \"ticks\": \"\", \"title\": {\"standoff\": 15}, \"zerolinecolor\": \"white\", \"zerolinewidth\": 2}}}, \"title\": {\"text\": \"CPB From November 21, 2018 to November 21, 2019\", \"x\": 0.5, \"xanchor\": \"center\", \"y\": 0.9, \"yanchor\": \"top\"}, \"xaxis\": {\"rangeslider\": {\"visible\": true}, \"title\": {\"text\": \"Time\"}}, \"yaxis\": {\"title\": {\"text\": \"Growth Rate Percentage\"}}},\n",
       "                        {\"responsive\": true}\n",
       "                    ).then(function(){\n",
       "                            \n",
       "var gd = document.getElementById('b6e669fc-a88d-4d1c-b6c1-42211e03a326');\n",
       "var x = new MutationObserver(function (mutations, observer) {{\n",
       "        var display = window.getComputedStyle(gd).display;\n",
       "        if (!display || display === 'none') {{\n",
       "            console.log([gd, 'removed!']);\n",
       "            Plotly.purge(gd);\n",
       "            observer.disconnect();\n",
       "        }}\n",
       "}});\n",
       "\n",
       "// Listen for the removal of the full notebook cells\n",
       "var notebookContainer = gd.closest('#notebook-container');\n",
       "if (notebookContainer) {{\n",
       "    x.observe(notebookContainer, {childList: true});\n",
       "}}\n",
       "\n",
       "// Listen for the clearing of the current output cell\n",
       "var outputEl = gd.closest('.output');\n",
       "if (outputEl) {{\n",
       "    x.observe(outputEl, {childList: true});\n",
       "}}\n",
       "\n",
       "                        })\n",
       "                };\n",
       "                });\n",
       "            </script>\n",
       "        </div>"
      ]
     },
     "metadata": {},
     "output_type": "display_data"
    }
   ],
   "source": [
    "fig = go.Figure(data=go.Ohlc(x=cpb['Date'],\n",
    "                    open=cpb['Open'],\n",
    "                    high=cpb['High'],\n",
    "                    low=cpb['Low'],\n",
    "                    close=cpb['Close']))\n",
    "\n",
    "fig.update_layout(title_text='CPB From November 21, 2018 to November 21, 2019',\n",
    "                  title={\n",
    "                    'y':0.9,\n",
    "                    'x':0.5,\n",
    "                    'xanchor': 'center',\n",
    "                    'yanchor': 'top'},\n",
    "                  xaxis_rangeslider_visible=True, xaxis_title=\"Time\", yaxis_title=\"Growth Rate Percentage\")\n",
    "\n",
    "\n",
    "fig.show()"
   ]
  },
  {
   "cell_type": "markdown",
   "metadata": {},
   "source": [
    "# Percent Change Chart - Seaborn"
   ]
  },
  {
   "cell_type": "code",
   "execution_count": 24,
   "metadata": {},
   "outputs": [
    {
     "data": {
      "text/html": [
       "<div>\n",
       "<style scoped>\n",
       "    .dataframe tbody tr th:only-of-type {\n",
       "        vertical-align: middle;\n",
       "    }\n",
       "\n",
       "    .dataframe tbody tr th {\n",
       "        vertical-align: top;\n",
       "    }\n",
       "\n",
       "    .dataframe thead th {\n",
       "        text-align: right;\n",
       "    }\n",
       "</style>\n",
       "<table border=\"1\" class=\"dataframe\">\n",
       "  <thead>\n",
       "    <tr style=\"text-align: right;\">\n",
       "      <th></th>\n",
       "      <th>Date</th>\n",
       "      <th>Open</th>\n",
       "      <th>High</th>\n",
       "      <th>Low</th>\n",
       "      <th>Close</th>\n",
       "      <th>Adj Close</th>\n",
       "      <th>Volume</th>\n",
       "    </tr>\n",
       "  </thead>\n",
       "  <tbody>\n",
       "    <tr>\n",
       "      <th>0</th>\n",
       "      <td>2018-11-21</td>\n",
       "      <td>2657.739990</td>\n",
       "      <td>2670.729980</td>\n",
       "      <td>2649.820068</td>\n",
       "      <td>2649.929932</td>\n",
       "      <td>2649.929932</td>\n",
       "      <td>3233550000</td>\n",
       "    </tr>\n",
       "    <tr>\n",
       "      <th>1</th>\n",
       "      <td>2018-11-23</td>\n",
       "      <td>2633.360107</td>\n",
       "      <td>2647.550049</td>\n",
       "      <td>2631.090088</td>\n",
       "      <td>2632.560059</td>\n",
       "      <td>2632.560059</td>\n",
       "      <td>1651650000</td>\n",
       "    </tr>\n",
       "    <tr>\n",
       "      <th>2</th>\n",
       "      <td>2018-11-26</td>\n",
       "      <td>2649.969971</td>\n",
       "      <td>2674.350098</td>\n",
       "      <td>2649.969971</td>\n",
       "      <td>2673.449951</td>\n",
       "      <td>2673.449951</td>\n",
       "      <td>3443950000</td>\n",
       "    </tr>\n",
       "    <tr>\n",
       "      <th>3</th>\n",
       "      <td>2018-11-27</td>\n",
       "      <td>2663.750000</td>\n",
       "      <td>2682.530029</td>\n",
       "      <td>2655.889893</td>\n",
       "      <td>2682.169922</td>\n",
       "      <td>2682.169922</td>\n",
       "      <td>3485220000</td>\n",
       "    </tr>\n",
       "    <tr>\n",
       "      <th>4</th>\n",
       "      <td>2018-11-28</td>\n",
       "      <td>2691.449951</td>\n",
       "      <td>2744.000000</td>\n",
       "      <td>2684.379883</td>\n",
       "      <td>2743.790039</td>\n",
       "      <td>2743.790039</td>\n",
       "      <td>3951670000</td>\n",
       "    </tr>\n",
       "  </tbody>\n",
       "</table>\n",
       "</div>"
      ],
      "text/plain": [
       "         Date         Open         High          Low        Close  \\\n",
       "0  2018-11-21  2657.739990  2670.729980  2649.820068  2649.929932   \n",
       "1  2018-11-23  2633.360107  2647.550049  2631.090088  2632.560059   \n",
       "2  2018-11-26  2649.969971  2674.350098  2649.969971  2673.449951   \n",
       "3  2018-11-27  2663.750000  2682.530029  2655.889893  2682.169922   \n",
       "4  2018-11-28  2691.449951  2744.000000  2684.379883  2743.790039   \n",
       "\n",
       "     Adj Close      Volume  \n",
       "0  2649.929932  3233550000  \n",
       "1  2632.560059  1651650000  \n",
       "2  2673.449951  3443950000  \n",
       "3  2682.169922  3485220000  \n",
       "4  2743.790039  3951670000  "
      ]
     },
     "execution_count": 24,
     "metadata": {},
     "output_type": "execute_result"
    }
   ],
   "source": [
    "s_and_p.head()"
   ]
  },
  {
   "cell_type": "code",
   "execution_count": 25,
   "metadata": {},
   "outputs": [],
   "source": [
    "# Calculate Growth Rate\n",
    "\n",
    "cpb['growth_rate'] = cpb['Adj Close'].pct_change()\n",
    "s_and_p['growth_rate'] = s_and_p['Adj Close'].pct_change()"
   ]
  },
  {
   "cell_type": "code",
   "execution_count": null,
   "metadata": {},
   "outputs": [],
   "source": [
    "fig = go.Figure()\n",
    "fig.add_trace(go.Scatter(x=combined_portfolio_adp_gr_dfs.trade_date, y=cpb['growth_rate'],\n",
    "                         name=\"Campbell Soup Company\", line_color='deepskyblue', hovertext=cpb[\"Adj Close\"]))\n",
    "\n",
    "\n"
   ]
  }
 ],
 "metadata": {
  "kernelspec": {
   "display_name": "Python 3",
   "language": "python",
   "name": "python3"
  },
  "language_info": {
   "codemirror_mode": {
    "name": "ipython",
    "version": 3
   },
   "file_extension": ".py",
   "mimetype": "text/x-python",
   "name": "python",
   "nbconvert_exporter": "python",
   "pygments_lexer": "ipython3",
   "version": "3.7.2"
  }
 },
 "nbformat": 4,
 "nbformat_minor": 2
}
